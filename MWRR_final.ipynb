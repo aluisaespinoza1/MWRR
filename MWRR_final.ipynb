{
 "cells": [
  {
   "cell_type": "markdown",
   "id": "097511ce",
   "metadata": {},
   "source": [
    "# MWRR Activity\n",
    "Integrantes: Marianne Trujillo ALtamirano, Ana Luisa Espinoza López."
   ]
  },
  {
   "cell_type": "code",
   "execution_count": 96,
   "id": "c47449d0",
   "metadata": {},
   "outputs": [],
   "source": [
    "import pyxirr as px\n",
    "import pandas as pd\n",
    "import dateparser as dp"
   ]
  },
  {
   "cell_type": "code",
   "execution_count": 97,
   "id": "991c221a",
   "metadata": {},
   "outputs": [],
   "source": [
    "data = \"data_actividad.xlsx\"\n",
    "balances = pd.read_excel(data, sheet_name='balances')\n",
    "movements = pd.read_excel(data, sheet_name='movements')"
   ]
  },
  {
   "cell_type": "code",
   "execution_count": 98,
   "id": "20e0c424",
   "metadata": {},
   "outputs": [],
   "source": [
    "# 1. Función limpieza balances\n",
    "def clean_balance_data(data):\n",
    "    \"\"\"\n",
    "    Devuelve un diccionario {contrato: df_balance}\n",
    "    Cada df tiene columnas: balance_date, portfolio_value\n",
    "    \"\"\"\n",
    "    cols = [\"contract\", \"value_pos_mdo\", \"balance_date\"]\n",
    "    df = data[cols].copy()\n",
    "\n",
    "    # Parse fechas\n",
    "    df[\"balance_date\"] = df[\"balance_date\"].apply(lambda x: dp.parse(str(x)))\n",
    "\n",
    "    # Diccionario de balances por contrato\n",
    "    contract_dfs = {}\n",
    "    for contract, group in df.groupby(\"contract\"):\n",
    "        grouped = (\n",
    "            group.groupby(\"balance_date\", as_index=False)[\"value_pos_mdo\"]\n",
    "            .sum()\n",
    "            .rename(columns={\"value_pos_mdo\": \"portfolio_value\"})\n",
    "            .sort_values(\"balance_date\")\n",
    "        )\n",
    "        contract_dfs[contract] = grouped.reset_index(drop=True)\n",
    "\n",
    "    return contract_dfs"
   ]
  },
  {
   "cell_type": "code",
   "execution_count": 67,
   "id": "7f7ff87d",
   "metadata": {},
   "outputs": [
    {
     "data": {
      "text/plain": [
       "dict_keys(['12861603', '20486403', 'AHA84901'])"
      ]
     },
     "execution_count": 67,
     "metadata": {},
     "output_type": "execute_result"
    }
   ],
   "source": [
    "bal_clean = clean_balance_data(balances)\n",
    "bal_clean.keys()"
   ]
  },
  {
   "cell_type": "markdown",
   "id": "967c773f",
   "metadata": {},
   "source": [
    "#### Balance contrato 12861603"
   ]
  },
  {
   "cell_type": "code",
   "execution_count": 99,
   "id": "931b2736",
   "metadata": {},
   "outputs": [
    {
     "data": {
      "application/vnd.microsoft.datawrangler.viewer.v0+json": {
       "columns": [
        {
         "name": "index",
         "rawType": "int64",
         "type": "integer"
        },
        {
         "name": "balance_date",
         "rawType": "datetime64[ns]",
         "type": "datetime"
        },
        {
         "name": "portfolio_value",
         "rawType": "float64",
         "type": "float"
        }
       ],
       "ref": "81acc76b-03e9-4c3d-9d8b-15ef87c2c49d",
       "rows": [
        [
         "0",
         "2023-01-12 00:00:00",
         "100000.0"
        ],
        [
         "1",
         "2023-01-13 00:00:00",
         "100000.0"
        ],
        [
         "2",
         "2023-01-16 00:00:00",
         "267081.1981"
        ],
        [
         "3",
         "2023-01-17 00:00:00",
         "270193.5784"
        ],
        [
         "4",
         "2023-01-18 00:00:00",
         "270369.3147"
        ]
       ],
       "shape": {
        "columns": 2,
        "rows": 5
       }
      },
      "text/html": [
       "<div>\n",
       "<style scoped>\n",
       "    .dataframe tbody tr th:only-of-type {\n",
       "        vertical-align: middle;\n",
       "    }\n",
       "\n",
       "    .dataframe tbody tr th {\n",
       "        vertical-align: top;\n",
       "    }\n",
       "\n",
       "    .dataframe thead th {\n",
       "        text-align: right;\n",
       "    }\n",
       "</style>\n",
       "<table border=\"1\" class=\"dataframe\">\n",
       "  <thead>\n",
       "    <tr style=\"text-align: right;\">\n",
       "      <th></th>\n",
       "      <th>balance_date</th>\n",
       "      <th>portfolio_value</th>\n",
       "    </tr>\n",
       "  </thead>\n",
       "  <tbody>\n",
       "    <tr>\n",
       "      <th>0</th>\n",
       "      <td>2023-01-12</td>\n",
       "      <td>100000.0000</td>\n",
       "    </tr>\n",
       "    <tr>\n",
       "      <th>1</th>\n",
       "      <td>2023-01-13</td>\n",
       "      <td>100000.0000</td>\n",
       "    </tr>\n",
       "    <tr>\n",
       "      <th>2</th>\n",
       "      <td>2023-01-16</td>\n",
       "      <td>267081.1981</td>\n",
       "    </tr>\n",
       "    <tr>\n",
       "      <th>3</th>\n",
       "      <td>2023-01-17</td>\n",
       "      <td>270193.5784</td>\n",
       "    </tr>\n",
       "    <tr>\n",
       "      <th>4</th>\n",
       "      <td>2023-01-18</td>\n",
       "      <td>270369.3147</td>\n",
       "    </tr>\n",
       "  </tbody>\n",
       "</table>\n",
       "</div>"
      ],
      "text/plain": [
       "  balance_date  portfolio_value\n",
       "0   2023-01-12      100000.0000\n",
       "1   2023-01-13      100000.0000\n",
       "2   2023-01-16      267081.1981\n",
       "3   2023-01-17      270193.5784\n",
       "4   2023-01-18      270369.3147"
      ]
     },
     "execution_count": 99,
     "metadata": {},
     "output_type": "execute_result"
    }
   ],
   "source": [
    "bal_clean['12861603'].head()"
   ]
  },
  {
   "cell_type": "markdown",
   "id": "66f83170",
   "metadata": {},
   "source": [
    "#### Balance contrato 20486403"
   ]
  },
  {
   "cell_type": "code",
   "execution_count": 100,
   "id": "a7371bf9",
   "metadata": {},
   "outputs": [
    {
     "data": {
      "application/vnd.microsoft.datawrangler.viewer.v0+json": {
       "columns": [
        {
         "name": "index",
         "rawType": "int64",
         "type": "integer"
        },
        {
         "name": "balance_date",
         "rawType": "datetime64[ns]",
         "type": "datetime"
        },
        {
         "name": "portfolio_value",
         "rawType": "float64",
         "type": "float"
        }
       ],
       "ref": "6a914216-065e-4f88-ba52-c315519dd42a",
       "rows": [
        [
         "0",
         "2022-12-09 00:00:00",
         "1531486.4876299999"
        ],
        [
         "1",
         "2022-12-13 00:00:00",
         "1532353.73226"
        ],
        [
         "2",
         "2022-12-14 00:00:00",
         "1533557.76502"
        ],
        [
         "3",
         "2022-12-15 00:00:00",
         "1533233.56949"
        ],
        [
         "4",
         "2022-12-16 00:00:00",
         "1533721.9349699998"
        ]
       ],
       "shape": {
        "columns": 2,
        "rows": 5
       }
      },
      "text/html": [
       "<div>\n",
       "<style scoped>\n",
       "    .dataframe tbody tr th:only-of-type {\n",
       "        vertical-align: middle;\n",
       "    }\n",
       "\n",
       "    .dataframe tbody tr th {\n",
       "        vertical-align: top;\n",
       "    }\n",
       "\n",
       "    .dataframe thead th {\n",
       "        text-align: right;\n",
       "    }\n",
       "</style>\n",
       "<table border=\"1\" class=\"dataframe\">\n",
       "  <thead>\n",
       "    <tr style=\"text-align: right;\">\n",
       "      <th></th>\n",
       "      <th>balance_date</th>\n",
       "      <th>portfolio_value</th>\n",
       "    </tr>\n",
       "  </thead>\n",
       "  <tbody>\n",
       "    <tr>\n",
       "      <th>0</th>\n",
       "      <td>2022-12-09</td>\n",
       "      <td>1.531486e+06</td>\n",
       "    </tr>\n",
       "    <tr>\n",
       "      <th>1</th>\n",
       "      <td>2022-12-13</td>\n",
       "      <td>1.532354e+06</td>\n",
       "    </tr>\n",
       "    <tr>\n",
       "      <th>2</th>\n",
       "      <td>2022-12-14</td>\n",
       "      <td>1.533558e+06</td>\n",
       "    </tr>\n",
       "    <tr>\n",
       "      <th>3</th>\n",
       "      <td>2022-12-15</td>\n",
       "      <td>1.533234e+06</td>\n",
       "    </tr>\n",
       "    <tr>\n",
       "      <th>4</th>\n",
       "      <td>2022-12-16</td>\n",
       "      <td>1.533722e+06</td>\n",
       "    </tr>\n",
       "  </tbody>\n",
       "</table>\n",
       "</div>"
      ],
      "text/plain": [
       "  balance_date  portfolio_value\n",
       "0   2022-12-09     1.531486e+06\n",
       "1   2022-12-13     1.532354e+06\n",
       "2   2022-12-14     1.533558e+06\n",
       "3   2022-12-15     1.533234e+06\n",
       "4   2022-12-16     1.533722e+06"
      ]
     },
     "execution_count": 100,
     "metadata": {},
     "output_type": "execute_result"
    }
   ],
   "source": [
    "bal_clean['20486403'].head()"
   ]
  },
  {
   "cell_type": "markdown",
   "id": "93d864cb",
   "metadata": {},
   "source": [
    "#### Balance contrato AHA84901"
   ]
  },
  {
   "cell_type": "code",
   "execution_count": 101,
   "id": "3c943a12",
   "metadata": {},
   "outputs": [
    {
     "data": {
      "application/vnd.microsoft.datawrangler.viewer.v0+json": {
       "columns": [
        {
         "name": "index",
         "rawType": "int64",
         "type": "integer"
        },
        {
         "name": "balance_date",
         "rawType": "datetime64[ns]",
         "type": "datetime"
        },
        {
         "name": "portfolio_value",
         "rawType": "float64",
         "type": "float"
        }
       ],
       "ref": "d7af7473-5966-48d9-8dfd-279acfac2985",
       "rows": [
        [
         "0",
         "2023-06-26 00:00:00",
         "200000.0"
        ],
        [
         "1",
         "2023-06-27 00:00:00",
         "204868.6095"
        ],
        [
         "2",
         "2023-06-28 00:00:00",
         "204914.26650000003"
        ],
        [
         "3",
         "2023-06-29 00:00:00",
         "204976.7575"
        ],
        [
         "4",
         "2023-06-30 00:00:00",
         "205024.9605"
        ]
       ],
       "shape": {
        "columns": 2,
        "rows": 5
       }
      },
      "text/html": [
       "<div>\n",
       "<style scoped>\n",
       "    .dataframe tbody tr th:only-of-type {\n",
       "        vertical-align: middle;\n",
       "    }\n",
       "\n",
       "    .dataframe tbody tr th {\n",
       "        vertical-align: top;\n",
       "    }\n",
       "\n",
       "    .dataframe thead th {\n",
       "        text-align: right;\n",
       "    }\n",
       "</style>\n",
       "<table border=\"1\" class=\"dataframe\">\n",
       "  <thead>\n",
       "    <tr style=\"text-align: right;\">\n",
       "      <th></th>\n",
       "      <th>balance_date</th>\n",
       "      <th>portfolio_value</th>\n",
       "    </tr>\n",
       "  </thead>\n",
       "  <tbody>\n",
       "    <tr>\n",
       "      <th>0</th>\n",
       "      <td>2023-06-26</td>\n",
       "      <td>200000.0000</td>\n",
       "    </tr>\n",
       "    <tr>\n",
       "      <th>1</th>\n",
       "      <td>2023-06-27</td>\n",
       "      <td>204868.6095</td>\n",
       "    </tr>\n",
       "    <tr>\n",
       "      <th>2</th>\n",
       "      <td>2023-06-28</td>\n",
       "      <td>204914.2665</td>\n",
       "    </tr>\n",
       "    <tr>\n",
       "      <th>3</th>\n",
       "      <td>2023-06-29</td>\n",
       "      <td>204976.7575</td>\n",
       "    </tr>\n",
       "    <tr>\n",
       "      <th>4</th>\n",
       "      <td>2023-06-30</td>\n",
       "      <td>205024.9605</td>\n",
       "    </tr>\n",
       "  </tbody>\n",
       "</table>\n",
       "</div>"
      ],
      "text/plain": [
       "  balance_date  portfolio_value\n",
       "0   2023-06-26      200000.0000\n",
       "1   2023-06-27      204868.6095\n",
       "2   2023-06-28      204914.2665\n",
       "3   2023-06-29      204976.7575\n",
       "4   2023-06-30      205024.9605"
      ]
     },
     "execution_count": 101,
     "metadata": {},
     "output_type": "execute_result"
    }
   ],
   "source": [
    "bal_clean['AHA84901'].head()"
   ]
  },
  {
   "cell_type": "code",
   "execution_count": 102,
   "id": "f3dd5f98",
   "metadata": {},
   "outputs": [],
   "source": [
    "# 2. Función limpieza movimientos\n",
    "def clean_movements_data(df_mov):\n",
    "    \"\"\"\n",
    "    Devuelve un diccionario {contrato: df_mov}\n",
    "    Cada df tiene columnas: description, movement_import, operation_date\n",
    "    \"\"\"\n",
    "    cols = [\"contract\", \"movement_import\", \"operation_date\", \"description\"]\n",
    "    df = df_mov[cols].copy()\n",
    "\n",
    "    # Parse fechas\n",
    "    df[\"operation_date\"] = df[\"operation_date\"].apply(\n",
    "        lambda x: dp.parse(str(x)) if pd.notnull(x) else pd.NaT\n",
    "    )\n",
    "    \n",
    "    # Filtrar solo depósitos y retiros de efectivo (y transferencias)\n",
    "    df_filtered = df[\n",
    "        df[\"description\"].str.contains(\"DEPOSITO DE EFECTIVO\", case=False, na=False) |\n",
    "        df[\"description\"].str.contains(\"RETIRO DE EFECTIVO\", case=False, na=False)\n",
    "    ].copy()\n",
    "    \n",
    "    # Clasificar descripciones\n",
    "    df_filtered[\"description_clean\"] = df_filtered[\"description\"].apply(\n",
    "        lambda x: \"DEPOSITO DE EFECTIVO\" if \"DEPOSITO\" in x.upper() else \"RETIRO DE EFECTIVO\"\n",
    "    )\n",
    "\n",
    "    contract_dfs = {}\n",
    "    for contract, group in df_filtered.groupby(\"contract\"):\n",
    "        # Seleccionar solo las columnas finales requeridas y ordenar por fecha\n",
    "        movements_df = (group[[\"description_clean\", \"movement_import\", \"operation_date\"]]\n",
    "                       .copy()\n",
    "                       .sort_values(\"operation_date\"))\n",
    "        contract_dfs[contract] = movements_df.reset_index(drop=True)\n",
    "\n",
    "    return contract_dfs"
   ]
  },
  {
   "cell_type": "code",
   "execution_count": 103,
   "id": "0c8f7068",
   "metadata": {},
   "outputs": [
    {
     "data": {
      "text/plain": [
       "dict_keys(['12861603', '20486403', 'AHA84901'])"
      ]
     },
     "execution_count": 103,
     "metadata": {},
     "output_type": "execute_result"
    }
   ],
   "source": [
    "mov_clean = clean_movements_data(movements)\n",
    "mov_clean.keys()"
   ]
  },
  {
   "cell_type": "markdown",
   "id": "2196bebd",
   "metadata": {},
   "source": [
    "#### Movimientos 12861603"
   ]
  },
  {
   "cell_type": "code",
   "execution_count": 108,
   "id": "140fc938",
   "metadata": {},
   "outputs": [
    {
     "data": {
      "application/vnd.microsoft.datawrangler.viewer.v0+json": {
       "columns": [
        {
         "name": "index",
         "rawType": "int64",
         "type": "integer"
        },
        {
         "name": "description_clean",
         "rawType": "object",
         "type": "string"
        },
        {
         "name": "movement_import",
         "rawType": "float64",
         "type": "float"
        },
        {
         "name": "operation_date",
         "rawType": "datetime64[ns]",
         "type": "datetime"
        }
       ],
       "ref": "d154b089-9e12-40bf-9f23-aebff79b8016",
       "rows": [
        [
         "0",
         "DEPOSITO DE EFECTIVO",
         "100000.0",
         "2023-01-12 00:00:00"
        ],
        [
         "1",
         "DEPOSITO DE EFECTIVO",
         "167000.0",
         "2023-01-16 00:00:00"
        ],
        [
         "2",
         "DEPOSITO DE EFECTIVO",
         "3241.77",
         "2023-01-17 00:00:00"
        ],
        [
         "3",
         "DEPOSITO DE EFECTIVO",
         "10000.0",
         "2023-02-01 00:00:00"
        ],
        [
         "4",
         "DEPOSITO DE EFECTIVO",
         "10000.0",
         "2023-02-10 00:00:00"
        ]
       ],
       "shape": {
        "columns": 3,
        "rows": 5
       }
      },
      "text/html": [
       "<div>\n",
       "<style scoped>\n",
       "    .dataframe tbody tr th:only-of-type {\n",
       "        vertical-align: middle;\n",
       "    }\n",
       "\n",
       "    .dataframe tbody tr th {\n",
       "        vertical-align: top;\n",
       "    }\n",
       "\n",
       "    .dataframe thead th {\n",
       "        text-align: right;\n",
       "    }\n",
       "</style>\n",
       "<table border=\"1\" class=\"dataframe\">\n",
       "  <thead>\n",
       "    <tr style=\"text-align: right;\">\n",
       "      <th></th>\n",
       "      <th>description_clean</th>\n",
       "      <th>movement_import</th>\n",
       "      <th>operation_date</th>\n",
       "    </tr>\n",
       "  </thead>\n",
       "  <tbody>\n",
       "    <tr>\n",
       "      <th>0</th>\n",
       "      <td>DEPOSITO DE EFECTIVO</td>\n",
       "      <td>100000.00</td>\n",
       "      <td>2023-01-12</td>\n",
       "    </tr>\n",
       "    <tr>\n",
       "      <th>1</th>\n",
       "      <td>DEPOSITO DE EFECTIVO</td>\n",
       "      <td>167000.00</td>\n",
       "      <td>2023-01-16</td>\n",
       "    </tr>\n",
       "    <tr>\n",
       "      <th>2</th>\n",
       "      <td>DEPOSITO DE EFECTIVO</td>\n",
       "      <td>3241.77</td>\n",
       "      <td>2023-01-17</td>\n",
       "    </tr>\n",
       "    <tr>\n",
       "      <th>3</th>\n",
       "      <td>DEPOSITO DE EFECTIVO</td>\n",
       "      <td>10000.00</td>\n",
       "      <td>2023-02-01</td>\n",
       "    </tr>\n",
       "    <tr>\n",
       "      <th>4</th>\n",
       "      <td>DEPOSITO DE EFECTIVO</td>\n",
       "      <td>10000.00</td>\n",
       "      <td>2023-02-10</td>\n",
       "    </tr>\n",
       "  </tbody>\n",
       "</table>\n",
       "</div>"
      ],
      "text/plain": [
       "      description_clean  movement_import operation_date\n",
       "0  DEPOSITO DE EFECTIVO        100000.00     2023-01-12\n",
       "1  DEPOSITO DE EFECTIVO        167000.00     2023-01-16\n",
       "2  DEPOSITO DE EFECTIVO          3241.77     2023-01-17\n",
       "3  DEPOSITO DE EFECTIVO         10000.00     2023-02-01\n",
       "4  DEPOSITO DE EFECTIVO         10000.00     2023-02-10"
      ]
     },
     "execution_count": 108,
     "metadata": {},
     "output_type": "execute_result"
    }
   ],
   "source": [
    "mov_clean['12861603'].head()"
   ]
  },
  {
   "cell_type": "markdown",
   "id": "ded76df2",
   "metadata": {},
   "source": [
    "#### Movimientos contrato 20486403"
   ]
  },
  {
   "cell_type": "code",
   "execution_count": 110,
   "id": "2706da5a",
   "metadata": {},
   "outputs": [
    {
     "data": {
      "application/vnd.microsoft.datawrangler.viewer.v0+json": {
       "columns": [
        {
         "name": "index",
         "rawType": "int64",
         "type": "integer"
        },
        {
         "name": "description_clean",
         "rawType": "object",
         "type": "string"
        },
        {
         "name": "movement_import",
         "rawType": "float64",
         "type": "float"
        },
        {
         "name": "operation_date",
         "rawType": "datetime64[ns]",
         "type": "datetime"
        }
       ],
       "ref": "c758f78d-1a0b-4524-8963-5bdbe36d30a2",
       "rows": [
        [
         "0",
         "RETIRO DE EFECTIVO",
         "26000.0",
         "2023-01-04 00:00:00"
        ],
        [
         "1",
         "RETIRO DE EFECTIVO",
         "1500.0",
         "2023-01-25 00:00:00"
        ],
        [
         "2",
         "DEPOSITO DE EFECTIVO",
         "30000.0",
         "2023-03-03 00:00:00"
        ],
        [
         "3",
         "RETIRO DE EFECTIVO",
         "23500.0",
         "2023-04-28 00:00:00"
        ],
        [
         "4",
         "DEPOSITO DE EFECTIVO",
         "80000.0",
         "2023-05-02 00:00:00"
        ]
       ],
       "shape": {
        "columns": 3,
        "rows": 5
       }
      },
      "text/html": [
       "<div>\n",
       "<style scoped>\n",
       "    .dataframe tbody tr th:only-of-type {\n",
       "        vertical-align: middle;\n",
       "    }\n",
       "\n",
       "    .dataframe tbody tr th {\n",
       "        vertical-align: top;\n",
       "    }\n",
       "\n",
       "    .dataframe thead th {\n",
       "        text-align: right;\n",
       "    }\n",
       "</style>\n",
       "<table border=\"1\" class=\"dataframe\">\n",
       "  <thead>\n",
       "    <tr style=\"text-align: right;\">\n",
       "      <th></th>\n",
       "      <th>description_clean</th>\n",
       "      <th>movement_import</th>\n",
       "      <th>operation_date</th>\n",
       "    </tr>\n",
       "  </thead>\n",
       "  <tbody>\n",
       "    <tr>\n",
       "      <th>0</th>\n",
       "      <td>RETIRO DE EFECTIVO</td>\n",
       "      <td>26000.0</td>\n",
       "      <td>2023-01-04</td>\n",
       "    </tr>\n",
       "    <tr>\n",
       "      <th>1</th>\n",
       "      <td>RETIRO DE EFECTIVO</td>\n",
       "      <td>1500.0</td>\n",
       "      <td>2023-01-25</td>\n",
       "    </tr>\n",
       "    <tr>\n",
       "      <th>2</th>\n",
       "      <td>DEPOSITO DE EFECTIVO</td>\n",
       "      <td>30000.0</td>\n",
       "      <td>2023-03-03</td>\n",
       "    </tr>\n",
       "    <tr>\n",
       "      <th>3</th>\n",
       "      <td>RETIRO DE EFECTIVO</td>\n",
       "      <td>23500.0</td>\n",
       "      <td>2023-04-28</td>\n",
       "    </tr>\n",
       "    <tr>\n",
       "      <th>4</th>\n",
       "      <td>DEPOSITO DE EFECTIVO</td>\n",
       "      <td>80000.0</td>\n",
       "      <td>2023-05-02</td>\n",
       "    </tr>\n",
       "  </tbody>\n",
       "</table>\n",
       "</div>"
      ],
      "text/plain": [
       "      description_clean  movement_import operation_date\n",
       "0    RETIRO DE EFECTIVO          26000.0     2023-01-04\n",
       "1    RETIRO DE EFECTIVO           1500.0     2023-01-25\n",
       "2  DEPOSITO DE EFECTIVO          30000.0     2023-03-03\n",
       "3    RETIRO DE EFECTIVO          23500.0     2023-04-28\n",
       "4  DEPOSITO DE EFECTIVO          80000.0     2023-05-02"
      ]
     },
     "execution_count": 110,
     "metadata": {},
     "output_type": "execute_result"
    }
   ],
   "source": [
    "mov_clean['20486403'].head()"
   ]
  },
  {
   "cell_type": "markdown",
   "id": "bb72cdbd",
   "metadata": {},
   "source": [
    "#### Movimientos contrato AHA84901"
   ]
  },
  {
   "cell_type": "code",
   "execution_count": 112,
   "id": "14e19ca6",
   "metadata": {},
   "outputs": [
    {
     "data": {
      "application/vnd.microsoft.datawrangler.viewer.v0+json": {
       "columns": [
        {
         "name": "index",
         "rawType": "int64",
         "type": "integer"
        },
        {
         "name": "description_clean",
         "rawType": "object",
         "type": "string"
        },
        {
         "name": "movement_import",
         "rawType": "float64",
         "type": "float"
        },
        {
         "name": "operation_date",
         "rawType": "datetime64[ns]",
         "type": "datetime"
        }
       ],
       "ref": "8529566a-f93a-4511-932d-3a47cc180922",
       "rows": [
        [
         "0",
         "DEPOSITO DE EFECTIVO",
         "200000.0",
         "2023-06-26 00:00:00"
        ],
        [
         "1",
         "DEPOSITO DE EFECTIVO",
         "5000.0",
         "2023-06-27 00:00:00"
        ],
        [
         "2",
         "DEPOSITO DE EFECTIVO",
         "340000.0",
         "2023-07-24 00:00:00"
        ],
        [
         "3",
         "RETIRO DE EFECTIVO",
         "126.3",
         "2023-08-15 00:00:00"
        ],
        [
         "4",
         "RETIRO DE EFECTIVO",
         "229.03",
         "2023-09-14 00:00:00"
        ]
       ],
       "shape": {
        "columns": 3,
        "rows": 5
       }
      },
      "text/html": [
       "<div>\n",
       "<style scoped>\n",
       "    .dataframe tbody tr th:only-of-type {\n",
       "        vertical-align: middle;\n",
       "    }\n",
       "\n",
       "    .dataframe tbody tr th {\n",
       "        vertical-align: top;\n",
       "    }\n",
       "\n",
       "    .dataframe thead th {\n",
       "        text-align: right;\n",
       "    }\n",
       "</style>\n",
       "<table border=\"1\" class=\"dataframe\">\n",
       "  <thead>\n",
       "    <tr style=\"text-align: right;\">\n",
       "      <th></th>\n",
       "      <th>description_clean</th>\n",
       "      <th>movement_import</th>\n",
       "      <th>operation_date</th>\n",
       "    </tr>\n",
       "  </thead>\n",
       "  <tbody>\n",
       "    <tr>\n",
       "      <th>0</th>\n",
       "      <td>DEPOSITO DE EFECTIVO</td>\n",
       "      <td>200000.00</td>\n",
       "      <td>2023-06-26</td>\n",
       "    </tr>\n",
       "    <tr>\n",
       "      <th>1</th>\n",
       "      <td>DEPOSITO DE EFECTIVO</td>\n",
       "      <td>5000.00</td>\n",
       "      <td>2023-06-27</td>\n",
       "    </tr>\n",
       "    <tr>\n",
       "      <th>2</th>\n",
       "      <td>DEPOSITO DE EFECTIVO</td>\n",
       "      <td>340000.00</td>\n",
       "      <td>2023-07-24</td>\n",
       "    </tr>\n",
       "    <tr>\n",
       "      <th>3</th>\n",
       "      <td>RETIRO DE EFECTIVO</td>\n",
       "      <td>126.30</td>\n",
       "      <td>2023-08-15</td>\n",
       "    </tr>\n",
       "    <tr>\n",
       "      <th>4</th>\n",
       "      <td>RETIRO DE EFECTIVO</td>\n",
       "      <td>229.03</td>\n",
       "      <td>2023-09-14</td>\n",
       "    </tr>\n",
       "  </tbody>\n",
       "</table>\n",
       "</div>"
      ],
      "text/plain": [
       "      description_clean  movement_import operation_date\n",
       "0  DEPOSITO DE EFECTIVO        200000.00     2023-06-26\n",
       "1  DEPOSITO DE EFECTIVO          5000.00     2023-06-27\n",
       "2  DEPOSITO DE EFECTIVO        340000.00     2023-07-24\n",
       "3    RETIRO DE EFECTIVO           126.30     2023-08-15\n",
       "4    RETIRO DE EFECTIVO           229.03     2023-09-14"
      ]
     },
     "execution_count": 112,
     "metadata": {},
     "output_type": "execute_result"
    }
   ],
   "source": [
    "mov_clean['AHA84901'].head()"
   ]
  },
  {
   "cell_type": "code",
   "execution_count": 113,
   "id": "d4745441",
   "metadata": {},
   "outputs": [],
   "source": [
    "# 3. Función para agregar valores inicial y final\n",
    "def add_initial_final_values(bal_clean, mov_clean):\n",
    "    \"\"\"\n",
    "    Agrega valor inicial y final a los movimientos de cada contrato\n",
    "    Devuelve un diccionario {contrato: df_mov_completo}\n",
    "    \"\"\"\n",
    "    complete_data = {}\n",
    "    \n",
    "    for contract in mov_clean.keys():\n",
    "        if contract not in bal_clean:\n",
    "            continue\n",
    "            \n",
    "        # Obtener datos de movimientos y balances del contrato\n",
    "        mov_df = mov_clean[contract].copy()\n",
    "        bal_df = bal_clean[contract].copy()\n",
    "        \n",
    "        if len(bal_df) == 0 or len(mov_df) == 0:\n",
    "            continue\n",
    "        \n",
    "        # Obtener primer balance y primer movimiento\n",
    "        first_balance = bal_df.iloc[0]['portfolio_value']\n",
    "        first_movement = mov_df.iloc[0]['movement_import']\n",
    "        first_balance_date = bal_df.iloc[0]['balance_date']\n",
    "        \n",
    "        # Decidir valor inicial\n",
    "        if abs(first_movement - first_balance) < 0.01:  # Son iguales (tolerancia pequeña)\n",
    "            # Renombrar el primer movimiento como VALOR_INICIAL\n",
    "            mov_df.iloc[0, mov_df.columns.get_loc('description_clean')] = 'VALOR_INICIAL'\n",
    "            mov_df_final = mov_df.copy()\n",
    "        else:\n",
    "            # Agregar valor inicial del balance al inicio\n",
    "            initial_row = pd.DataFrame({\n",
    "                'description_clean': ['VALOR_INICIAL'],\n",
    "                'movement_import': [first_balance],\n",
    "                'operation_date': [first_balance_date]\n",
    "            })\n",
    "            mov_df_final = pd.concat([initial_row, mov_df], ignore_index=True)\n",
    "        \n",
    "        # Valor final (último balance)\n",
    "        final_value = bal_df.iloc[-1]\n",
    "        final_row = pd.DataFrame({\n",
    "            'description_clean': ['VALOR_FINAL'],\n",
    "            'movement_import': [final_value['portfolio_value']],\n",
    "            'operation_date': [final_value['balance_date']]\n",
    "        })\n",
    "        \n",
    "        # Ajustar signos de movimientos: depósitos negativos, retiros positivos\n",
    "        mov_df_adjusted = mov_df_final.copy()\n",
    "        for idx, row in mov_df_adjusted.iterrows():\n",
    "            if row['description_clean'] == 'DEPOSITO DE EFECTIVO':\n",
    "                mov_df_adjusted.at[idx, 'movement_import'] = -abs(row['movement_import'])\n",
    "            elif row['description_clean'] == 'RETIRO DE EFECTIVO':\n",
    "                mov_df_adjusted.at[idx, 'movement_import'] = abs(row['movement_import'])\n",
    "            elif row['description_clean'] == 'VALOR_INICIAL':\n",
    "                mov_df_adjusted.at[idx, 'movement_import'] = -abs(row['movement_import'])\n",
    "        \n",
    "        # Combinar todos los datos\n",
    "        complete_df = pd.concat([mov_df_adjusted, final_row], ignore_index=True)\n",
    "        complete_df = complete_df.sort_values('operation_date').reset_index(drop=True)\n",
    "        \n",
    "        complete_data[contract] = complete_df\n",
    "    \n",
    "    return complete_data"
   ]
  },
  {
   "cell_type": "code",
   "execution_count": 114,
   "id": "685500a6",
   "metadata": {},
   "outputs": [
    {
     "data": {
      "text/plain": [
       "dict_keys(['12861603', '20486403', 'AHA84901'])"
      ]
     },
     "execution_count": 114,
     "metadata": {},
     "output_type": "execute_result"
    }
   ],
   "source": [
    "complete_data = add_initial_final_values(bal_clean, mov_clean)\n",
    "complete_data.keys()"
   ]
  },
  {
   "cell_type": "markdown",
   "id": "7ab3cd22",
   "metadata": {},
   "source": [
    "#### Flujos contrato 12861603"
   ]
  },
  {
   "cell_type": "code",
   "execution_count": 115,
   "id": "05325f2a",
   "metadata": {},
   "outputs": [
    {
     "data": {
      "application/vnd.microsoft.datawrangler.viewer.v0+json": {
       "columns": [
        {
         "name": "index",
         "rawType": "int64",
         "type": "integer"
        },
        {
         "name": "description_clean",
         "rawType": "object",
         "type": "string"
        },
        {
         "name": "movement_import",
         "rawType": "float64",
         "type": "float"
        },
        {
         "name": "operation_date",
         "rawType": "datetime64[ns]",
         "type": "datetime"
        }
       ],
       "ref": "bfcdf3ea-0174-4517-9ef8-864a1686b6f5",
       "rows": [
        [
         "0",
         "VALOR_INICIAL",
         "-100000.0",
         "2023-01-12 00:00:00"
        ],
        [
         "1",
         "DEPOSITO DE EFECTIVO",
         "-167000.0",
         "2023-01-16 00:00:00"
        ],
        [
         "2",
         "DEPOSITO DE EFECTIVO",
         "-3241.77",
         "2023-01-17 00:00:00"
        ],
        [
         "3",
         "DEPOSITO DE EFECTIVO",
         "-10000.0",
         "2023-02-01 00:00:00"
        ],
        [
         "4",
         "DEPOSITO DE EFECTIVO",
         "-10000.0",
         "2023-02-10 00:00:00"
        ]
       ],
       "shape": {
        "columns": 3,
        "rows": 5
       }
      },
      "text/html": [
       "<div>\n",
       "<style scoped>\n",
       "    .dataframe tbody tr th:only-of-type {\n",
       "        vertical-align: middle;\n",
       "    }\n",
       "\n",
       "    .dataframe tbody tr th {\n",
       "        vertical-align: top;\n",
       "    }\n",
       "\n",
       "    .dataframe thead th {\n",
       "        text-align: right;\n",
       "    }\n",
       "</style>\n",
       "<table border=\"1\" class=\"dataframe\">\n",
       "  <thead>\n",
       "    <tr style=\"text-align: right;\">\n",
       "      <th></th>\n",
       "      <th>description_clean</th>\n",
       "      <th>movement_import</th>\n",
       "      <th>operation_date</th>\n",
       "    </tr>\n",
       "  </thead>\n",
       "  <tbody>\n",
       "    <tr>\n",
       "      <th>0</th>\n",
       "      <td>VALOR_INICIAL</td>\n",
       "      <td>-100000.00</td>\n",
       "      <td>2023-01-12</td>\n",
       "    </tr>\n",
       "    <tr>\n",
       "      <th>1</th>\n",
       "      <td>DEPOSITO DE EFECTIVO</td>\n",
       "      <td>-167000.00</td>\n",
       "      <td>2023-01-16</td>\n",
       "    </tr>\n",
       "    <tr>\n",
       "      <th>2</th>\n",
       "      <td>DEPOSITO DE EFECTIVO</td>\n",
       "      <td>-3241.77</td>\n",
       "      <td>2023-01-17</td>\n",
       "    </tr>\n",
       "    <tr>\n",
       "      <th>3</th>\n",
       "      <td>DEPOSITO DE EFECTIVO</td>\n",
       "      <td>-10000.00</td>\n",
       "      <td>2023-02-01</td>\n",
       "    </tr>\n",
       "    <tr>\n",
       "      <th>4</th>\n",
       "      <td>DEPOSITO DE EFECTIVO</td>\n",
       "      <td>-10000.00</td>\n",
       "      <td>2023-02-10</td>\n",
       "    </tr>\n",
       "  </tbody>\n",
       "</table>\n",
       "</div>"
      ],
      "text/plain": [
       "      description_clean  movement_import operation_date\n",
       "0         VALOR_INICIAL       -100000.00     2023-01-12\n",
       "1  DEPOSITO DE EFECTIVO       -167000.00     2023-01-16\n",
       "2  DEPOSITO DE EFECTIVO         -3241.77     2023-01-17\n",
       "3  DEPOSITO DE EFECTIVO        -10000.00     2023-02-01\n",
       "4  DEPOSITO DE EFECTIVO        -10000.00     2023-02-10"
      ]
     },
     "execution_count": 115,
     "metadata": {},
     "output_type": "execute_result"
    }
   ],
   "source": [
    "complete_data['12861603'].head()"
   ]
  },
  {
   "cell_type": "code",
   "execution_count": 117,
   "id": "4c0d46ab",
   "metadata": {},
   "outputs": [
    {
     "data": {
      "application/vnd.microsoft.datawrangler.viewer.v0+json": {
       "columns": [
        {
         "name": "index",
         "rawType": "int64",
         "type": "integer"
        },
        {
         "name": "description_clean",
         "rawType": "object",
         "type": "string"
        },
        {
         "name": "movement_import",
         "rawType": "float64",
         "type": "float"
        },
        {
         "name": "operation_date",
         "rawType": "datetime64[ns]",
         "type": "datetime"
        }
       ],
       "ref": "3b37ae96-c2d5-46dc-a38e-77d3f8336ae1",
       "rows": [
        [
         "12",
         "RETIRO DE EFECTIVO",
         "100.17",
         "2023-10-13 00:00:00"
        ],
        [
         "13",
         "RETIRO DE EFECTIVO",
         "106.16",
         "2023-11-15 00:00:00"
        ],
        [
         "14",
         "RETIRO DE EFECTIVO",
         "5000.0",
         "2023-11-17 00:00:00"
        ],
        [
         "15",
         "RETIRO DE EFECTIVO",
         "30000.0",
         "2023-11-30 00:00:00"
        ],
        [
         "16",
         "VALOR_FINAL",
         "223059.8805",
         "2023-11-30 00:00:00"
        ]
       ],
       "shape": {
        "columns": 3,
        "rows": 5
       }
      },
      "text/html": [
       "<div>\n",
       "<style scoped>\n",
       "    .dataframe tbody tr th:only-of-type {\n",
       "        vertical-align: middle;\n",
       "    }\n",
       "\n",
       "    .dataframe tbody tr th {\n",
       "        vertical-align: top;\n",
       "    }\n",
       "\n",
       "    .dataframe thead th {\n",
       "        text-align: right;\n",
       "    }\n",
       "</style>\n",
       "<table border=\"1\" class=\"dataframe\">\n",
       "  <thead>\n",
       "    <tr style=\"text-align: right;\">\n",
       "      <th></th>\n",
       "      <th>description_clean</th>\n",
       "      <th>movement_import</th>\n",
       "      <th>operation_date</th>\n",
       "    </tr>\n",
       "  </thead>\n",
       "  <tbody>\n",
       "    <tr>\n",
       "      <th>12</th>\n",
       "      <td>RETIRO DE EFECTIVO</td>\n",
       "      <td>100.1700</td>\n",
       "      <td>2023-10-13</td>\n",
       "    </tr>\n",
       "    <tr>\n",
       "      <th>13</th>\n",
       "      <td>RETIRO DE EFECTIVO</td>\n",
       "      <td>106.1600</td>\n",
       "      <td>2023-11-15</td>\n",
       "    </tr>\n",
       "    <tr>\n",
       "      <th>14</th>\n",
       "      <td>RETIRO DE EFECTIVO</td>\n",
       "      <td>5000.0000</td>\n",
       "      <td>2023-11-17</td>\n",
       "    </tr>\n",
       "    <tr>\n",
       "      <th>15</th>\n",
       "      <td>RETIRO DE EFECTIVO</td>\n",
       "      <td>30000.0000</td>\n",
       "      <td>2023-11-30</td>\n",
       "    </tr>\n",
       "    <tr>\n",
       "      <th>16</th>\n",
       "      <td>VALOR_FINAL</td>\n",
       "      <td>223059.8805</td>\n",
       "      <td>2023-11-30</td>\n",
       "    </tr>\n",
       "  </tbody>\n",
       "</table>\n",
       "</div>"
      ],
      "text/plain": [
       "     description_clean  movement_import operation_date\n",
       "12  RETIRO DE EFECTIVO         100.1700     2023-10-13\n",
       "13  RETIRO DE EFECTIVO         106.1600     2023-11-15\n",
       "14  RETIRO DE EFECTIVO        5000.0000     2023-11-17\n",
       "15  RETIRO DE EFECTIVO       30000.0000     2023-11-30\n",
       "16         VALOR_FINAL      223059.8805     2023-11-30"
      ]
     },
     "execution_count": 117,
     "metadata": {},
     "output_type": "execute_result"
    }
   ],
   "source": [
    "complete_data['12861603'].tail()"
   ]
  },
  {
   "cell_type": "markdown",
   "id": "54fbd3aa",
   "metadata": {},
   "source": [
    "#### Flujos contrato 20486403"
   ]
  },
  {
   "cell_type": "code",
   "execution_count": 118,
   "id": "c76d579e",
   "metadata": {},
   "outputs": [
    {
     "data": {
      "application/vnd.microsoft.datawrangler.viewer.v0+json": {
       "columns": [
        {
         "name": "index",
         "rawType": "int64",
         "type": "integer"
        },
        {
         "name": "description_clean",
         "rawType": "object",
         "type": "string"
        },
        {
         "name": "movement_import",
         "rawType": "float64",
         "type": "float"
        },
        {
         "name": "operation_date",
         "rawType": "datetime64[ns]",
         "type": "datetime"
        }
       ],
       "ref": "a228474e-2d23-459e-9a78-2ac3780e4e03",
       "rows": [
        [
         "0",
         "VALOR_INICIAL",
         "-1531486.4876299999",
         "2022-12-09 00:00:00"
        ],
        [
         "1",
         "RETIRO DE EFECTIVO",
         "26000.0",
         "2023-01-04 00:00:00"
        ],
        [
         "2",
         "RETIRO DE EFECTIVO",
         "1500.0",
         "2023-01-25 00:00:00"
        ],
        [
         "3",
         "DEPOSITO DE EFECTIVO",
         "-30000.0",
         "2023-03-03 00:00:00"
        ],
        [
         "4",
         "RETIRO DE EFECTIVO",
         "23500.0",
         "2023-04-28 00:00:00"
        ]
       ],
       "shape": {
        "columns": 3,
        "rows": 5
       }
      },
      "text/html": [
       "<div>\n",
       "<style scoped>\n",
       "    .dataframe tbody tr th:only-of-type {\n",
       "        vertical-align: middle;\n",
       "    }\n",
       "\n",
       "    .dataframe tbody tr th {\n",
       "        vertical-align: top;\n",
       "    }\n",
       "\n",
       "    .dataframe thead th {\n",
       "        text-align: right;\n",
       "    }\n",
       "</style>\n",
       "<table border=\"1\" class=\"dataframe\">\n",
       "  <thead>\n",
       "    <tr style=\"text-align: right;\">\n",
       "      <th></th>\n",
       "      <th>description_clean</th>\n",
       "      <th>movement_import</th>\n",
       "      <th>operation_date</th>\n",
       "    </tr>\n",
       "  </thead>\n",
       "  <tbody>\n",
       "    <tr>\n",
       "      <th>0</th>\n",
       "      <td>VALOR_INICIAL</td>\n",
       "      <td>-1.531486e+06</td>\n",
       "      <td>2022-12-09</td>\n",
       "    </tr>\n",
       "    <tr>\n",
       "      <th>1</th>\n",
       "      <td>RETIRO DE EFECTIVO</td>\n",
       "      <td>2.600000e+04</td>\n",
       "      <td>2023-01-04</td>\n",
       "    </tr>\n",
       "    <tr>\n",
       "      <th>2</th>\n",
       "      <td>RETIRO DE EFECTIVO</td>\n",
       "      <td>1.500000e+03</td>\n",
       "      <td>2023-01-25</td>\n",
       "    </tr>\n",
       "    <tr>\n",
       "      <th>3</th>\n",
       "      <td>DEPOSITO DE EFECTIVO</td>\n",
       "      <td>-3.000000e+04</td>\n",
       "      <td>2023-03-03</td>\n",
       "    </tr>\n",
       "    <tr>\n",
       "      <th>4</th>\n",
       "      <td>RETIRO DE EFECTIVO</td>\n",
       "      <td>2.350000e+04</td>\n",
       "      <td>2023-04-28</td>\n",
       "    </tr>\n",
       "  </tbody>\n",
       "</table>\n",
       "</div>"
      ],
      "text/plain": [
       "      description_clean  movement_import operation_date\n",
       "0         VALOR_INICIAL    -1.531486e+06     2022-12-09\n",
       "1    RETIRO DE EFECTIVO     2.600000e+04     2023-01-04\n",
       "2    RETIRO DE EFECTIVO     1.500000e+03     2023-01-25\n",
       "3  DEPOSITO DE EFECTIVO    -3.000000e+04     2023-03-03\n",
       "4    RETIRO DE EFECTIVO     2.350000e+04     2023-04-28"
      ]
     },
     "execution_count": 118,
     "metadata": {},
     "output_type": "execute_result"
    }
   ],
   "source": [
    "complete_data['20486403'].head()"
   ]
  },
  {
   "cell_type": "code",
   "execution_count": 120,
   "id": "6b17ce8a",
   "metadata": {},
   "outputs": [
    {
     "data": {
      "application/vnd.microsoft.datawrangler.viewer.v0+json": {
       "columns": [
        {
         "name": "index",
         "rawType": "int64",
         "type": "integer"
        },
        {
         "name": "description_clean",
         "rawType": "object",
         "type": "string"
        },
        {
         "name": "movement_import",
         "rawType": "float64",
         "type": "float"
        },
        {
         "name": "operation_date",
         "rawType": "datetime64[ns]",
         "type": "datetime"
        }
       ],
       "ref": "58b88eb7-24ae-49b9-abae-0b8e38853426",
       "rows": [
        [
         "12",
         "RETIRO DE EFECTIVO",
         "100.17",
         "2023-10-13 00:00:00"
        ],
        [
         "13",
         "RETIRO DE EFECTIVO",
         "106.16",
         "2023-11-15 00:00:00"
        ],
        [
         "14",
         "RETIRO DE EFECTIVO",
         "5000.0",
         "2023-11-17 00:00:00"
        ],
        [
         "15",
         "RETIRO DE EFECTIVO",
         "30000.0",
         "2023-11-30 00:00:00"
        ],
        [
         "16",
         "VALOR_FINAL",
         "223059.8805",
         "2023-11-30 00:00:00"
        ]
       ],
       "shape": {
        "columns": 3,
        "rows": 5
       }
      },
      "text/html": [
       "<div>\n",
       "<style scoped>\n",
       "    .dataframe tbody tr th:only-of-type {\n",
       "        vertical-align: middle;\n",
       "    }\n",
       "\n",
       "    .dataframe tbody tr th {\n",
       "        vertical-align: top;\n",
       "    }\n",
       "\n",
       "    .dataframe thead th {\n",
       "        text-align: right;\n",
       "    }\n",
       "</style>\n",
       "<table border=\"1\" class=\"dataframe\">\n",
       "  <thead>\n",
       "    <tr style=\"text-align: right;\">\n",
       "      <th></th>\n",
       "      <th>description_clean</th>\n",
       "      <th>movement_import</th>\n",
       "      <th>operation_date</th>\n",
       "    </tr>\n",
       "  </thead>\n",
       "  <tbody>\n",
       "    <tr>\n",
       "      <th>12</th>\n",
       "      <td>RETIRO DE EFECTIVO</td>\n",
       "      <td>100.1700</td>\n",
       "      <td>2023-10-13</td>\n",
       "    </tr>\n",
       "    <tr>\n",
       "      <th>13</th>\n",
       "      <td>RETIRO DE EFECTIVO</td>\n",
       "      <td>106.1600</td>\n",
       "      <td>2023-11-15</td>\n",
       "    </tr>\n",
       "    <tr>\n",
       "      <th>14</th>\n",
       "      <td>RETIRO DE EFECTIVO</td>\n",
       "      <td>5000.0000</td>\n",
       "      <td>2023-11-17</td>\n",
       "    </tr>\n",
       "    <tr>\n",
       "      <th>15</th>\n",
       "      <td>RETIRO DE EFECTIVO</td>\n",
       "      <td>30000.0000</td>\n",
       "      <td>2023-11-30</td>\n",
       "    </tr>\n",
       "    <tr>\n",
       "      <th>16</th>\n",
       "      <td>VALOR_FINAL</td>\n",
       "      <td>223059.8805</td>\n",
       "      <td>2023-11-30</td>\n",
       "    </tr>\n",
       "  </tbody>\n",
       "</table>\n",
       "</div>"
      ],
      "text/plain": [
       "     description_clean  movement_import operation_date\n",
       "12  RETIRO DE EFECTIVO         100.1700     2023-10-13\n",
       "13  RETIRO DE EFECTIVO         106.1600     2023-11-15\n",
       "14  RETIRO DE EFECTIVO        5000.0000     2023-11-17\n",
       "15  RETIRO DE EFECTIVO       30000.0000     2023-11-30\n",
       "16         VALOR_FINAL      223059.8805     2023-11-30"
      ]
     },
     "execution_count": 120,
     "metadata": {},
     "output_type": "execute_result"
    }
   ],
   "source": [
    "complete_data['12861603'].tail()"
   ]
  },
  {
   "cell_type": "markdown",
   "id": "dac64c1d",
   "metadata": {},
   "source": [
    "#### Flujos contrato AHA84901"
   ]
  },
  {
   "cell_type": "code",
   "execution_count": 121,
   "id": "9df05e6a",
   "metadata": {},
   "outputs": [
    {
     "data": {
      "application/vnd.microsoft.datawrangler.viewer.v0+json": {
       "columns": [
        {
         "name": "index",
         "rawType": "int64",
         "type": "integer"
        },
        {
         "name": "description_clean",
         "rawType": "object",
         "type": "string"
        },
        {
         "name": "movement_import",
         "rawType": "float64",
         "type": "float"
        },
        {
         "name": "operation_date",
         "rawType": "datetime64[ns]",
         "type": "datetime"
        }
       ],
       "ref": "4177ba2e-9079-4009-bd4a-1f2f99099935",
       "rows": [
        [
         "0",
         "VALOR_INICIAL",
         "-200000.0",
         "2023-06-26 00:00:00"
        ],
        [
         "1",
         "DEPOSITO DE EFECTIVO",
         "-5000.0",
         "2023-06-27 00:00:00"
        ],
        [
         "2",
         "DEPOSITO DE EFECTIVO",
         "-340000.0",
         "2023-07-24 00:00:00"
        ],
        [
         "3",
         "RETIRO DE EFECTIVO",
         "126.3",
         "2023-08-15 00:00:00"
        ],
        [
         "4",
         "RETIRO DE EFECTIVO",
         "229.03",
         "2023-09-14 00:00:00"
        ]
       ],
       "shape": {
        "columns": 3,
        "rows": 5
       }
      },
      "text/html": [
       "<div>\n",
       "<style scoped>\n",
       "    .dataframe tbody tr th:only-of-type {\n",
       "        vertical-align: middle;\n",
       "    }\n",
       "\n",
       "    .dataframe tbody tr th {\n",
       "        vertical-align: top;\n",
       "    }\n",
       "\n",
       "    .dataframe thead th {\n",
       "        text-align: right;\n",
       "    }\n",
       "</style>\n",
       "<table border=\"1\" class=\"dataframe\">\n",
       "  <thead>\n",
       "    <tr style=\"text-align: right;\">\n",
       "      <th></th>\n",
       "      <th>description_clean</th>\n",
       "      <th>movement_import</th>\n",
       "      <th>operation_date</th>\n",
       "    </tr>\n",
       "  </thead>\n",
       "  <tbody>\n",
       "    <tr>\n",
       "      <th>0</th>\n",
       "      <td>VALOR_INICIAL</td>\n",
       "      <td>-200000.00</td>\n",
       "      <td>2023-06-26</td>\n",
       "    </tr>\n",
       "    <tr>\n",
       "      <th>1</th>\n",
       "      <td>DEPOSITO DE EFECTIVO</td>\n",
       "      <td>-5000.00</td>\n",
       "      <td>2023-06-27</td>\n",
       "    </tr>\n",
       "    <tr>\n",
       "      <th>2</th>\n",
       "      <td>DEPOSITO DE EFECTIVO</td>\n",
       "      <td>-340000.00</td>\n",
       "      <td>2023-07-24</td>\n",
       "    </tr>\n",
       "    <tr>\n",
       "      <th>3</th>\n",
       "      <td>RETIRO DE EFECTIVO</td>\n",
       "      <td>126.30</td>\n",
       "      <td>2023-08-15</td>\n",
       "    </tr>\n",
       "    <tr>\n",
       "      <th>4</th>\n",
       "      <td>RETIRO DE EFECTIVO</td>\n",
       "      <td>229.03</td>\n",
       "      <td>2023-09-14</td>\n",
       "    </tr>\n",
       "  </tbody>\n",
       "</table>\n",
       "</div>"
      ],
      "text/plain": [
       "      description_clean  movement_import operation_date\n",
       "0         VALOR_INICIAL       -200000.00     2023-06-26\n",
       "1  DEPOSITO DE EFECTIVO         -5000.00     2023-06-27\n",
       "2  DEPOSITO DE EFECTIVO       -340000.00     2023-07-24\n",
       "3    RETIRO DE EFECTIVO           126.30     2023-08-15\n",
       "4    RETIRO DE EFECTIVO           229.03     2023-09-14"
      ]
     },
     "execution_count": 121,
     "metadata": {},
     "output_type": "execute_result"
    }
   ],
   "source": [
    "complete_data['AHA84901'].head()"
   ]
  },
  {
   "cell_type": "code",
   "execution_count": 123,
   "id": "891a2c31",
   "metadata": {},
   "outputs": [
    {
     "data": {
      "application/vnd.microsoft.datawrangler.viewer.v0+json": {
       "columns": [
        {
         "name": "index",
         "rawType": "int64",
         "type": "integer"
        },
        {
         "name": "description_clean",
         "rawType": "object",
         "type": "string"
        },
        {
         "name": "movement_import",
         "rawType": "float64",
         "type": "float"
        },
        {
         "name": "operation_date",
         "rawType": "datetime64[ns]",
         "type": "datetime"
        }
       ],
       "ref": "d6ae3d96-e3c3-49db-808f-2ee506ae5f00",
       "rows": [
        [
         "6",
         "RETIRO DE EFECTIVO",
         "30000.0",
         "2023-10-19 00:00:00"
        ],
        [
         "7",
         "RETIRO DE EFECTIVO",
         "5000.0",
         "2023-10-26 00:00:00"
        ],
        [
         "8",
         "RETIRO DE EFECTIVO",
         "227.5",
         "2023-11-15 00:00:00"
        ],
        [
         "9",
         "RETIRO DE EFECTIVO",
         "100000.0",
         "2023-11-23 00:00:00"
        ],
        [
         "10",
         "VALOR_FINAL",
         "430842.6591",
         "2023-11-30 00:00:00"
        ]
       ],
       "shape": {
        "columns": 3,
        "rows": 5
       }
      },
      "text/html": [
       "<div>\n",
       "<style scoped>\n",
       "    .dataframe tbody tr th:only-of-type {\n",
       "        vertical-align: middle;\n",
       "    }\n",
       "\n",
       "    .dataframe tbody tr th {\n",
       "        vertical-align: top;\n",
       "    }\n",
       "\n",
       "    .dataframe thead th {\n",
       "        text-align: right;\n",
       "    }\n",
       "</style>\n",
       "<table border=\"1\" class=\"dataframe\">\n",
       "  <thead>\n",
       "    <tr style=\"text-align: right;\">\n",
       "      <th></th>\n",
       "      <th>description_clean</th>\n",
       "      <th>movement_import</th>\n",
       "      <th>operation_date</th>\n",
       "    </tr>\n",
       "  </thead>\n",
       "  <tbody>\n",
       "    <tr>\n",
       "      <th>6</th>\n",
       "      <td>RETIRO DE EFECTIVO</td>\n",
       "      <td>30000.0000</td>\n",
       "      <td>2023-10-19</td>\n",
       "    </tr>\n",
       "    <tr>\n",
       "      <th>7</th>\n",
       "      <td>RETIRO DE EFECTIVO</td>\n",
       "      <td>5000.0000</td>\n",
       "      <td>2023-10-26</td>\n",
       "    </tr>\n",
       "    <tr>\n",
       "      <th>8</th>\n",
       "      <td>RETIRO DE EFECTIVO</td>\n",
       "      <td>227.5000</td>\n",
       "      <td>2023-11-15</td>\n",
       "    </tr>\n",
       "    <tr>\n",
       "      <th>9</th>\n",
       "      <td>RETIRO DE EFECTIVO</td>\n",
       "      <td>100000.0000</td>\n",
       "      <td>2023-11-23</td>\n",
       "    </tr>\n",
       "    <tr>\n",
       "      <th>10</th>\n",
       "      <td>VALOR_FINAL</td>\n",
       "      <td>430842.6591</td>\n",
       "      <td>2023-11-30</td>\n",
       "    </tr>\n",
       "  </tbody>\n",
       "</table>\n",
       "</div>"
      ],
      "text/plain": [
       "     description_clean  movement_import operation_date\n",
       "6   RETIRO DE EFECTIVO       30000.0000     2023-10-19\n",
       "7   RETIRO DE EFECTIVO        5000.0000     2023-10-26\n",
       "8   RETIRO DE EFECTIVO         227.5000     2023-11-15\n",
       "9   RETIRO DE EFECTIVO      100000.0000     2023-11-23\n",
       "10         VALOR_FINAL      430842.6591     2023-11-30"
      ]
     },
     "execution_count": 123,
     "metadata": {},
     "output_type": "execute_result"
    }
   ],
   "source": [
    "complete_data['AHA84901'].tail()"
   ]
  },
  {
   "cell_type": "code",
   "execution_count": 124,
   "id": "ba5d892e",
   "metadata": {},
   "outputs": [],
   "source": [
    "# 4. Función para calcular MWRR\n",
    "def calculate_mwrr_by_contract(complete_data):\n",
    "    \"\"\"\n",
    "    Calcula el MWRR (TIR) para cada contrato usando pyxirr\n",
    "    Devuelve un diccionario {contrato: mwrr}\n",
    "    \"\"\"\n",
    "    mwrr_results = {}\n",
    "    \n",
    "    for contract, df in complete_data.items():\n",
    "        try:\n",
    "            dates = df['operation_date'].tolist()\n",
    "            amounts = df['movement_import'].tolist()\n",
    "            \n",
    "            # Calcular MWRR usando pyxirr\n",
    "            mwrr = px.xirr(dates, amounts)\n",
    "            mwrr_results[contract] = mwrr\n",
    "            \n",
    "        except Exception as e:\n",
    "            print(f\"Error calculando MWRR para contrato {contract}: {e}\")\n",
    "            mwrr_results[contract] = None\n",
    "    \n",
    "    return mwrr_results"
   ]
  },
  {
   "cell_type": "markdown",
   "id": "7cfcc618",
   "metadata": {},
   "source": [
    "#### Resultados"
   ]
  },
  {
   "cell_type": "code",
   "execution_count": 125,
   "id": "0760b555",
   "metadata": {},
   "outputs": [
    {
     "name": "stdout",
     "output_type": "stream",
     "text": [
      "MWRR por contrato:\n",
      "12861603: 11.69%\n",
      "20486403: 11.53%\n",
      "AHA84901: 11.05%\n"
     ]
    }
   ],
   "source": [
    "mwrr_by_contract = calculate_mwrr_by_contract(complete_data)\n",
    "\n",
    "print(\"MWRR por contrato:\")\n",
    "for contract, mwrr in mwrr_by_contract.items():\n",
    "    if mwrr is not None:\n",
    "        print(f\"{contract}: {mwrr:.2%}\")\n",
    "    else:\n",
    "        print(f\"{contract}: Error en cálculo\")"
   ]
  }
 ],
 "metadata": {
  "kernelspec": {
   "display_name": "base",
   "language": "python",
   "name": "python3"
  },
  "language_info": {
   "codemirror_mode": {
    "name": "ipython",
    "version": 3
   },
   "file_extension": ".py",
   "mimetype": "text/x-python",
   "name": "python",
   "nbconvert_exporter": "python",
   "pygments_lexer": "ipython3",
   "version": "3.10.9"
  }
 },
 "nbformat": 4,
 "nbformat_minor": 5
}
