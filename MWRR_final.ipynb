{
 "cells": [
  {
   "cell_type": "markdown",
   "id": "097511ce",
   "metadata": {},
   "source": [
    "# MWRR Activity\n",
    "Integrantes: Marianne Trujillo ALtamirano, Ana Luisa Espinoza López."
   ]
  },
  {
   "cell_type": "code",
   "execution_count": 5,
   "id": "0ccfbcf4",
   "metadata": {},
   "outputs": [
    {
     "name": "stdout",
     "output_type": "stream",
     "text": [
      "Defaulting to user installation because normal site-packages is not writeable\n",
      "Requirement already satisfied: dateparser in c:\\users\\kamil\\appdata\\roaming\\python\\python310\\site-packages (1.2.2)\n",
      "Requirement already satisfied: regex>=2024.9.11 in c:\\users\\kamil\\appdata\\roaming\\python\\python310\\site-packages (from dateparser) (2025.9.18)\n",
      "Requirement already satisfied: python-dateutil>=2.7.0 in c:\\programdata\\anaconda3\\lib\\site-packages (from dateparser) (2.8.2)\n",
      "Requirement already satisfied: tzlocal>=0.2 in c:\\users\\kamil\\appdata\\roaming\\python\\python310\\site-packages (from dateparser) (5.3.1)\n",
      "Requirement already satisfied: pytz>=2024.2 in c:\\users\\kamil\\appdata\\roaming\\python\\python310\\site-packages (from dateparser) (2025.2)\n",
      "Requirement already satisfied: six>=1.5 in c:\\programdata\\anaconda3\\lib\\site-packages (from python-dateutil>=2.7.0->dateparser) (1.16.0)\n",
      "Requirement already satisfied: tzdata in c:\\users\\kamil\\appdata\\roaming\\python\\python310\\site-packages (from tzlocal>=0.2->dateparser) (2025.2)\n"
     ]
    }
   ],
   "source": [
    "!pip install dateparser"
   ]
  },
  {
   "cell_type": "code",
   "execution_count": null,
   "id": "c47449d0",
   "metadata": {},
   "outputs": [],
   "source": [
    "#Importamos librerías\n",
    "import pyxirr as px\n",
    "import pandas as pd\n",
    "import dateparser as dp"
   ]
  },
  {
   "cell_type": "code",
   "execution_count": 16,
   "id": "991c221a",
   "metadata": {},
   "outputs": [],
   "source": [
    "data = \"data_actividad.xlsx\"\n",
    "balances = pd.read_excel(data, sheet_name='balances')\n",
    "movements = pd.read_excel(data, sheet_name='movements')"
   ]
  },
  {
   "cell_type": "code",
   "execution_count": 66,
   "id": "20e0c424",
   "metadata": {},
   "outputs": [],
   "source": [
    "# 1. Función limpieza balances\n",
    "def clean_balance_data(data):\n",
    "    \"\"\"\n",
    "    Devuelve un diccionario {contrato: df_balance}\n",
    "    Cada df tiene columnas: balance_date, portfolio_value\n",
    "    \"\"\"\n",
    "    cols = [\"contract\", \"value_pos_mdo\", \"balance_date\"]\n",
    "    df = data[cols].copy()\n",
    "\n",
    "    # Parse fechas\n",
    "    df[\"balance_date\"] = df[\"balance_date\"].apply(lambda x: dp.parse(str(x)))\n",
    "\n",
    "    # Diccionario de balances por contrato\n",
    "    contract_dfs = {}\n",
    "    for contract, group in df.groupby(\"contract\"):\n",
    "        grouped = (\n",
    "            group.groupby(\"balance_date\", as_index=False)[\"value_pos_mdo\"]\n",
    "            .sum()\n",
    "            .rename(columns={\"value_pos_mdo\": \"portfolio_value\"})\n",
    "            .sort_values(\"balance_date\")\n",
    "        )\n",
    "        contract_dfs[contract] = grouped.reset_index(drop=True)\n",
    "\n",
    "    return contract_dfs"
   ]
  },
  {
   "cell_type": "code",
   "execution_count": 67,
   "id": "7f7ff87d",
   "metadata": {},
   "outputs": [
    {
     "data": {
      "text/plain": [
       "dict_keys(['12861603', '20486403', 'AHA84901'])"
      ]
     },
     "execution_count": 67,
     "metadata": {},
     "output_type": "execute_result"
    }
   ],
   "source": [
    "bal_clean = clean_balance_data(balances)\n",
    "bal_clean.keys()"
   ]
  },
  {
   "cell_type": "markdown",
   "id": "967c773f",
   "metadata": {},
   "source": [
    "#### Balance contrato 12861603"
   ]
  },
  {
   "cell_type": "code",
   "execution_count": null,
   "id": "931b2736",
   "metadata": {},
   "outputs": [
    {
     "data": {
      "application/vnd.microsoft.datawrangler.viewer.v0+json": {
       "columns": [
        {
         "name": "index",
         "rawType": "int64",
         "type": "integer"
        },
        {
         "name": "balance_date",
         "rawType": "datetime64[ns]",
         "type": "datetime"
        },
        {
         "name": "portfolio_value",
         "rawType": "float64",
         "type": "float"
        }
       ],
       "ref": "155a0d29-1ea6-4a4e-a57f-64bdeeecbf18",
       "rows": [
        [
         "0",
         "2023-01-12 00:00:00",
         "100000.0"
        ],
        [
         "1",
         "2023-01-13 00:00:00",
         "100000.0"
        ],
        [
         "2",
         "2023-01-16 00:00:00",
         "267081.1981"
        ],
        [
         "3",
         "2023-01-17 00:00:00",
         "270193.5784"
        ],
        [
         "4",
         "2023-01-18 00:00:00",
         "270369.3147"
        ]
       ],
       "shape": {
        "columns": 2,
        "rows": 5
       }
      },
      "text/html": [
       "<div>\n",
       "<style scoped>\n",
       "    .dataframe tbody tr th:only-of-type {\n",
       "        vertical-align: middle;\n",
       "    }\n",
       "\n",
       "    .dataframe tbody tr th {\n",
       "        vertical-align: top;\n",
       "    }\n",
       "\n",
       "    .dataframe thead th {\n",
       "        text-align: right;\n",
       "    }\n",
       "</style>\n",
       "<table border=\"1\" class=\"dataframe\">\n",
       "  <thead>\n",
       "    <tr style=\"text-align: right;\">\n",
       "      <th></th>\n",
       "      <th>balance_date</th>\n",
       "      <th>portfolio_value</th>\n",
       "    </tr>\n",
       "  </thead>\n",
       "  <tbody>\n",
       "    <tr>\n",
       "      <th>0</th>\n",
       "      <td>2023-01-12</td>\n",
       "      <td>100000.0000</td>\n",
       "    </tr>\n",
       "    <tr>\n",
       "      <th>1</th>\n",
       "      <td>2023-01-13</td>\n",
       "      <td>100000.0000</td>\n",
       "    </tr>\n",
       "    <tr>\n",
       "      <th>2</th>\n",
       "      <td>2023-01-16</td>\n",
       "      <td>267081.1981</td>\n",
       "    </tr>\n",
       "    <tr>\n",
       "      <th>3</th>\n",
       "      <td>2023-01-17</td>\n",
       "      <td>270193.5784</td>\n",
       "    </tr>\n",
       "    <tr>\n",
       "      <th>4</th>\n",
       "      <td>2023-01-18</td>\n",
       "      <td>270369.3147</td>\n",
       "    </tr>\n",
       "  </tbody>\n",
       "</table>\n",
       "</div>"
      ],
      "text/plain": [
       "  balance_date  portfolio_value\n",
       "0   2023-01-12      100000.0000\n",
       "1   2023-01-13      100000.0000\n",
       "2   2023-01-16      267081.1981\n",
       "3   2023-01-17      270193.5784\n",
       "4   2023-01-18      270369.3147"
      ]
     },
     "execution_count": 68,
     "metadata": {},
     "output_type": "execute_result"
    }
   ],
   "source": [
    "bal_clean['12861603'].head()"
   ]
  },
  {
   "cell_type": "markdown",
   "id": "66f83170",
   "metadata": {},
   "source": [
    "#### Balance contrato 20486403"
   ]
  },
  {
   "cell_type": "code",
   "execution_count": 69,
   "id": "a7371bf9",
   "metadata": {},
   "outputs": [
    {
     "data": {
      "application/vnd.microsoft.datawrangler.viewer.v0+json": {
       "columns": [
        {
         "name": "index",
         "rawType": "int64",
         "type": "integer"
        },
        {
         "name": "balance_date",
         "rawType": "datetime64[ns]",
         "type": "datetime"
        },
        {
         "name": "portfolio_value",
         "rawType": "float64",
         "type": "float"
        }
       ],
       "ref": "111b42b5-360b-43b0-992d-7d643a90f99f",
       "rows": [
        [
         "0",
         "2022-12-09 00:00:00",
         "1531486.4876299999"
        ],
        [
         "1",
         "2022-12-13 00:00:00",
         "1532353.73226"
        ],
        [
         "2",
         "2022-12-14 00:00:00",
         "1533557.76502"
        ],
        [
         "3",
         "2022-12-15 00:00:00",
         "1533233.56949"
        ],
        [
         "4",
         "2022-12-16 00:00:00",
         "1533721.9349699998"
        ]
       ],
       "shape": {
        "columns": 2,
        "rows": 5
       }
      },
      "text/html": [
       "<div>\n",
       "<style scoped>\n",
       "    .dataframe tbody tr th:only-of-type {\n",
       "        vertical-align: middle;\n",
       "    }\n",
       "\n",
       "    .dataframe tbody tr th {\n",
       "        vertical-align: top;\n",
       "    }\n",
       "\n",
       "    .dataframe thead th {\n",
       "        text-align: right;\n",
       "    }\n",
       "</style>\n",
       "<table border=\"1\" class=\"dataframe\">\n",
       "  <thead>\n",
       "    <tr style=\"text-align: right;\">\n",
       "      <th></th>\n",
       "      <th>balance_date</th>\n",
       "      <th>portfolio_value</th>\n",
       "    </tr>\n",
       "  </thead>\n",
       "  <tbody>\n",
       "    <tr>\n",
       "      <th>0</th>\n",
       "      <td>2022-12-09</td>\n",
       "      <td>1.531486e+06</td>\n",
       "    </tr>\n",
       "    <tr>\n",
       "      <th>1</th>\n",
       "      <td>2022-12-13</td>\n",
       "      <td>1.532354e+06</td>\n",
       "    </tr>\n",
       "    <tr>\n",
       "      <th>2</th>\n",
       "      <td>2022-12-14</td>\n",
       "      <td>1.533558e+06</td>\n",
       "    </tr>\n",
       "    <tr>\n",
       "      <th>3</th>\n",
       "      <td>2022-12-15</td>\n",
       "      <td>1.533234e+06</td>\n",
       "    </tr>\n",
       "    <tr>\n",
       "      <th>4</th>\n",
       "      <td>2022-12-16</td>\n",
       "      <td>1.533722e+06</td>\n",
       "    </tr>\n",
       "  </tbody>\n",
       "</table>\n",
       "</div>"
      ],
      "text/plain": [
       "  balance_date  portfolio_value\n",
       "0   2022-12-09     1.531486e+06\n",
       "1   2022-12-13     1.532354e+06\n",
       "2   2022-12-14     1.533558e+06\n",
       "3   2022-12-15     1.533234e+06\n",
       "4   2022-12-16     1.533722e+06"
      ]
     },
     "execution_count": 69,
     "metadata": {},
     "output_type": "execute_result"
    }
   ],
   "source": [
    "bal_clean['20486403'].head()"
   ]
  },
  {
   "cell_type": "markdown",
   "id": "93d864cb",
   "metadata": {},
   "source": [
    "#### Balance contrato AHA84901"
   ]
  },
  {
   "cell_type": "code",
   "execution_count": 70,
   "id": "3c943a12",
   "metadata": {},
   "outputs": [
    {
     "data": {
      "application/vnd.microsoft.datawrangler.viewer.v0+json": {
       "columns": [
        {
         "name": "index",
         "rawType": "int64",
         "type": "integer"
        },
        {
         "name": "balance_date",
         "rawType": "datetime64[ns]",
         "type": "datetime"
        },
        {
         "name": "portfolio_value",
         "rawType": "float64",
         "type": "float"
        }
       ],
       "ref": "c4b00ecd-fad1-4045-87c9-0252dec280cc",
       "rows": [
        [
         "0",
         "2023-06-26 00:00:00",
         "200000.0"
        ],
        [
         "1",
         "2023-06-27 00:00:00",
         "204868.6095"
        ],
        [
         "2",
         "2023-06-28 00:00:00",
         "204914.26650000003"
        ],
        [
         "3",
         "2023-06-29 00:00:00",
         "204976.7575"
        ],
        [
         "4",
         "2023-06-30 00:00:00",
         "205024.9605"
        ]
       ],
       "shape": {
        "columns": 2,
        "rows": 5
       }
      },
      "text/html": [
       "<div>\n",
       "<style scoped>\n",
       "    .dataframe tbody tr th:only-of-type {\n",
       "        vertical-align: middle;\n",
       "    }\n",
       "\n",
       "    .dataframe tbody tr th {\n",
       "        vertical-align: top;\n",
       "    }\n",
       "\n",
       "    .dataframe thead th {\n",
       "        text-align: right;\n",
       "    }\n",
       "</style>\n",
       "<table border=\"1\" class=\"dataframe\">\n",
       "  <thead>\n",
       "    <tr style=\"text-align: right;\">\n",
       "      <th></th>\n",
       "      <th>balance_date</th>\n",
       "      <th>portfolio_value</th>\n",
       "    </tr>\n",
       "  </thead>\n",
       "  <tbody>\n",
       "    <tr>\n",
       "      <th>0</th>\n",
       "      <td>2023-06-26</td>\n",
       "      <td>200000.0000</td>\n",
       "    </tr>\n",
       "    <tr>\n",
       "      <th>1</th>\n",
       "      <td>2023-06-27</td>\n",
       "      <td>204868.6095</td>\n",
       "    </tr>\n",
       "    <tr>\n",
       "      <th>2</th>\n",
       "      <td>2023-06-28</td>\n",
       "      <td>204914.2665</td>\n",
       "    </tr>\n",
       "    <tr>\n",
       "      <th>3</th>\n",
       "      <td>2023-06-29</td>\n",
       "      <td>204976.7575</td>\n",
       "    </tr>\n",
       "    <tr>\n",
       "      <th>4</th>\n",
       "      <td>2023-06-30</td>\n",
       "      <td>205024.9605</td>\n",
       "    </tr>\n",
       "  </tbody>\n",
       "</table>\n",
       "</div>"
      ],
      "text/plain": [
       "  balance_date  portfolio_value\n",
       "0   2023-06-26      200000.0000\n",
       "1   2023-06-27      204868.6095\n",
       "2   2023-06-28      204914.2665\n",
       "3   2023-06-29      204976.7575\n",
       "4   2023-06-30      205024.9605"
      ]
     },
     "execution_count": 70,
     "metadata": {},
     "output_type": "execute_result"
    }
   ],
   "source": [
    "bal_clean['AHA84901'].head()"
   ]
  },
  {
   "cell_type": "code",
   "execution_count": 71,
   "id": "f3dd5f98",
   "metadata": {},
   "outputs": [],
   "source": [
    "# 2. Función limpieza movimientos\n",
    "def clean_movements_data(df_mov):\n",
    "    \"\"\"\n",
    "    Devuelve un diccionario {contrato: df_mov}\n",
    "    Cada df tiene columnas: description, movement_import, operation_date\n",
    "    \"\"\"\n",
    "    cols = [\"contract\", \"movement_import\", \"operation_date\", \"description\"]\n",
    "    df = df_mov[cols].copy()\n",
    "\n",
    "     # Parse fechas\n",
    "    df[\"operation_date\"] = df[\"operation_date\"].apply(\n",
    "        lambda x: dp.parse(str(x)) if pd.notnull(x) else pd.NaT\n",
    "    )\n",
    "    \n",
    "    # Clasificarion descripciones\n",
    "    clasificacion = {\n",
    "        \"DEPOSITO DE EFECTIVO\": \"DEPOSITO DE EFECTIVO\",\n",
    "        \"DEPOSITO DE EFECTIVO POR TRANSFERENCIA\": \"DEPOSITO DE EFECTIVO\",\n",
    "        \"Compra en Reporto\": \"DEPOSITO DE EFECTIVO\",\n",
    "        \"Compra Soc. de Inv.- Cliente\": \"DEPOSITO DE EFECTIVO\",\n",
    "        \"RETIRO DE EFECTIVO\": \"RETIRO DE EFECTIVO\",\n",
    "        \"Venta Normal\": \"RETIRO DE EFECTIVO\",\n",
    "        \"Venta Soc. de Inv.- Cliente\": \"RETIRO DE EFECTIVO\",\n",
    "        \"Vencimiento de Reporto\": \"RETIRO DE EFECTIVO\",\n",
    "        \"Amortización (cliente)\": \"RETIRO DE EFECTIVO\",\n",
    "    }\n",
    "\n",
    "    \n",
    "    df[\"description_clean\"] = df[\"description\"].map(clasificacion)\n",
    "    df = df[df[\"description_clean\"].notna()]\n",
    "\n",
    "    contract_dfs = {}\n",
    "    for contract, group in df.groupby(\"contract\"):\n",
    "        # Seleccionar solo las columnas finales requeridas y ordenar por fecha\n",
    "        movements_df = (group[[\"description_clean\", \"movement_import\", \"operation_date\"]]\n",
    "                       .copy()\n",
    "                       .sort_values(\"operation_date\"))\n",
    "        contract_dfs[contract] = movements_df.reset_index(drop=True)\n",
    "\n",
    "    return contract_dfs"
   ]
  },
  {
   "cell_type": "code",
   "execution_count": 72,
   "id": "0c8f7068",
   "metadata": {},
   "outputs": [
    {
     "data": {
      "text/plain": [
       "dict_keys(['12861603', '20486403', 'AHA84901'])"
      ]
     },
     "execution_count": 72,
     "metadata": {},
     "output_type": "execute_result"
    }
   ],
   "source": [
    "mov_clean = clean_movements_data(movements)\n",
    "mov_clean.keys()"
   ]
  },
  {
   "cell_type": "markdown",
   "id": "2196bebd",
   "metadata": {},
   "source": [
    "#### Movimientos 12861603"
   ]
  },
  {
   "cell_type": "code",
   "execution_count": 56,
   "id": "140fc938",
   "metadata": {},
   "outputs": [
    {
     "data": {
      "application/vnd.microsoft.datawrangler.viewer.v0+json": {
       "columns": [
        {
         "name": "index",
         "rawType": "int64",
         "type": "integer"
        },
        {
         "name": "description_clean",
         "rawType": "object",
         "type": "string"
        },
        {
         "name": "movement_import",
         "rawType": "float64",
         "type": "float"
        },
        {
         "name": "operation_date",
         "rawType": "datetime64[ns]",
         "type": "datetime"
        }
       ],
       "ref": "1eb1476b-137c-4b7b-9f32-25497361145c",
       "rows": [
        [
         "0",
         "DEPOSITO DE EFECTIVO",
         "100000.0",
         "2023-01-12 00:00:00"
        ],
        [
         "1",
         "DEPOSITO DE EFECTIVO",
         "99915.0002",
         "2023-01-13 00:00:00"
        ],
        [
         "2",
         "RETIRO DE EFECTIVO",
         "99996.1983",
         "2023-01-16 00:00:00"
        ],
        [
         "3",
         "DEPOSITO DE EFECTIVO",
         "167000.0",
         "2023-01-16 00:00:00"
        ],
        [
         "4",
         "DEPOSITO DE EFECTIVO",
         "100008.798",
         "2023-01-16 00:00:00"
        ]
       ],
       "shape": {
        "columns": 3,
        "rows": 5
       }
      },
      "text/html": [
       "<div>\n",
       "<style scoped>\n",
       "    .dataframe tbody tr th:only-of-type {\n",
       "        vertical-align: middle;\n",
       "    }\n",
       "\n",
       "    .dataframe tbody tr th {\n",
       "        vertical-align: top;\n",
       "    }\n",
       "\n",
       "    .dataframe thead th {\n",
       "        text-align: right;\n",
       "    }\n",
       "</style>\n",
       "<table border=\"1\" class=\"dataframe\">\n",
       "  <thead>\n",
       "    <tr style=\"text-align: right;\">\n",
       "      <th></th>\n",
       "      <th>description_clean</th>\n",
       "      <th>movement_import</th>\n",
       "      <th>operation_date</th>\n",
       "    </tr>\n",
       "  </thead>\n",
       "  <tbody>\n",
       "    <tr>\n",
       "      <th>0</th>\n",
       "      <td>DEPOSITO DE EFECTIVO</td>\n",
       "      <td>100000.0000</td>\n",
       "      <td>2023-01-12</td>\n",
       "    </tr>\n",
       "    <tr>\n",
       "      <th>1</th>\n",
       "      <td>DEPOSITO DE EFECTIVO</td>\n",
       "      <td>99915.0002</td>\n",
       "      <td>2023-01-13</td>\n",
       "    </tr>\n",
       "    <tr>\n",
       "      <th>2</th>\n",
       "      <td>RETIRO DE EFECTIVO</td>\n",
       "      <td>99996.1983</td>\n",
       "      <td>2023-01-16</td>\n",
       "    </tr>\n",
       "    <tr>\n",
       "      <th>3</th>\n",
       "      <td>DEPOSITO DE EFECTIVO</td>\n",
       "      <td>167000.0000</td>\n",
       "      <td>2023-01-16</td>\n",
       "    </tr>\n",
       "    <tr>\n",
       "      <th>4</th>\n",
       "      <td>DEPOSITO DE EFECTIVO</td>\n",
       "      <td>100008.7980</td>\n",
       "      <td>2023-01-16</td>\n",
       "    </tr>\n",
       "  </tbody>\n",
       "</table>\n",
       "</div>"
      ],
      "text/plain": [
       "      description_clean  movement_import operation_date\n",
       "0  DEPOSITO DE EFECTIVO      100000.0000     2023-01-12\n",
       "1  DEPOSITO DE EFECTIVO       99915.0002     2023-01-13\n",
       "2    RETIRO DE EFECTIVO       99996.1983     2023-01-16\n",
       "3  DEPOSITO DE EFECTIVO      167000.0000     2023-01-16\n",
       "4  DEPOSITO DE EFECTIVO      100008.7980     2023-01-16"
      ]
     },
     "execution_count": 56,
     "metadata": {},
     "output_type": "execute_result"
    }
   ],
   "source": [
    "mov_clean['12861603'].head()"
   ]
  },
  {
   "cell_type": "markdown",
   "id": "ded76df2",
   "metadata": {},
   "source": [
    "#### Movimientos contrato 20486403"
   ]
  },
  {
   "cell_type": "code",
   "execution_count": 57,
   "id": "2706da5a",
   "metadata": {},
   "outputs": [
    {
     "data": {
      "application/vnd.microsoft.datawrangler.viewer.v0+json": {
       "columns": [
        {
         "name": "index",
         "rawType": "int64",
         "type": "integer"
        },
        {
         "name": "description_clean",
         "rawType": "object",
         "type": "string"
        },
        {
         "name": "movement_import",
         "rawType": "float64",
         "type": "float"
        },
        {
         "name": "operation_date",
         "rawType": "datetime64[ns]",
         "type": "datetime"
        }
       ],
       "ref": "b9fb71cf-d9a7-425e-afcc-57e17a598e19",
       "rows": [
        [
         "0",
         "DEPOSITO DE EFECTIVO",
         "13851.9599",
         "2022-12-15 00:00:00"
        ],
        [
         "1",
         "RETIRO DE EFECTIVO",
         "13855.4502",
         "2022-12-16 00:00:00"
        ],
        [
         "2",
         "DEPOSITO DE EFECTIVO",
         "13931.5475",
         "2022-12-16 00:00:00"
        ],
        [
         "3",
         "RETIRO DE EFECTIVO",
         "13942.6592",
         "2022-12-19 00:00:00"
        ],
        [
         "4",
         "DEPOSITO DE EFECTIVO",
         "13942.799",
         "2022-12-19 00:00:00"
        ]
       ],
       "shape": {
        "columns": 3,
        "rows": 5
       }
      },
      "text/html": [
       "<div>\n",
       "<style scoped>\n",
       "    .dataframe tbody tr th:only-of-type {\n",
       "        vertical-align: middle;\n",
       "    }\n",
       "\n",
       "    .dataframe tbody tr th {\n",
       "        vertical-align: top;\n",
       "    }\n",
       "\n",
       "    .dataframe thead th {\n",
       "        text-align: right;\n",
       "    }\n",
       "</style>\n",
       "<table border=\"1\" class=\"dataframe\">\n",
       "  <thead>\n",
       "    <tr style=\"text-align: right;\">\n",
       "      <th></th>\n",
       "      <th>description_clean</th>\n",
       "      <th>movement_import</th>\n",
       "      <th>operation_date</th>\n",
       "    </tr>\n",
       "  </thead>\n",
       "  <tbody>\n",
       "    <tr>\n",
       "      <th>0</th>\n",
       "      <td>DEPOSITO DE EFECTIVO</td>\n",
       "      <td>13851.9599</td>\n",
       "      <td>2022-12-15</td>\n",
       "    </tr>\n",
       "    <tr>\n",
       "      <th>1</th>\n",
       "      <td>RETIRO DE EFECTIVO</td>\n",
       "      <td>13855.4502</td>\n",
       "      <td>2022-12-16</td>\n",
       "    </tr>\n",
       "    <tr>\n",
       "      <th>2</th>\n",
       "      <td>DEPOSITO DE EFECTIVO</td>\n",
       "      <td>13931.5475</td>\n",
       "      <td>2022-12-16</td>\n",
       "    </tr>\n",
       "    <tr>\n",
       "      <th>3</th>\n",
       "      <td>RETIRO DE EFECTIVO</td>\n",
       "      <td>13942.6592</td>\n",
       "      <td>2022-12-19</td>\n",
       "    </tr>\n",
       "    <tr>\n",
       "      <th>4</th>\n",
       "      <td>DEPOSITO DE EFECTIVO</td>\n",
       "      <td>13942.7990</td>\n",
       "      <td>2022-12-19</td>\n",
       "    </tr>\n",
       "  </tbody>\n",
       "</table>\n",
       "</div>"
      ],
      "text/plain": [
       "      description_clean  movement_import operation_date\n",
       "0  DEPOSITO DE EFECTIVO       13851.9599     2022-12-15\n",
       "1    RETIRO DE EFECTIVO       13855.4502     2022-12-16\n",
       "2  DEPOSITO DE EFECTIVO       13931.5475     2022-12-16\n",
       "3    RETIRO DE EFECTIVO       13942.6592     2022-12-19\n",
       "4  DEPOSITO DE EFECTIVO       13942.7990     2022-12-19"
      ]
     },
     "execution_count": 57,
     "metadata": {},
     "output_type": "execute_result"
    }
   ],
   "source": [
    "mov_clean['20486403'].head()"
   ]
  },
  {
   "cell_type": "markdown",
   "id": "bb72cdbd",
   "metadata": {},
   "source": [
    "#### Movimientos contrato AHA84901"
   ]
  },
  {
   "cell_type": "code",
   "execution_count": 58,
   "id": "14e19ca6",
   "metadata": {},
   "outputs": [
    {
     "data": {
      "application/vnd.microsoft.datawrangler.viewer.v0+json": {
       "columns": [
        {
         "name": "index",
         "rawType": "int64",
         "type": "integer"
        },
        {
         "name": "description_clean",
         "rawType": "object",
         "type": "string"
        },
        {
         "name": "movement_import",
         "rawType": "float64",
         "type": "float"
        },
        {
         "name": "operation_date",
         "rawType": "datetime64[ns]",
         "type": "datetime"
        }
       ],
       "ref": "059302cd-6241-45ec-ac82-ca4127445979",
       "rows": [
        [
         "0",
         "DEPOSITO DE EFECTIVO",
         "200000.0",
         "2023-06-26 00:00:00"
        ],
        [
         "1",
         "DEPOSITO DE EFECTIVO",
         "199944.2358",
         "2023-06-26 00:00:00"
        ],
        [
         "2",
         "RETIRO DE EFECTIVO",
         "199944.2358",
         "2023-06-27 00:00:00"
        ],
        [
         "3",
         "DEPOSITO DE EFECTIVO",
         "199907.0719",
         "2023-06-27 00:00:00"
        ],
        [
         "4",
         "RETIRO DE EFECTIVO",
         "199907.0719",
         "2023-06-28 00:00:00"
        ]
       ],
       "shape": {
        "columns": 3,
        "rows": 5
       }
      },
      "text/html": [
       "<div>\n",
       "<style scoped>\n",
       "    .dataframe tbody tr th:only-of-type {\n",
       "        vertical-align: middle;\n",
       "    }\n",
       "\n",
       "    .dataframe tbody tr th {\n",
       "        vertical-align: top;\n",
       "    }\n",
       "\n",
       "    .dataframe thead th {\n",
       "        text-align: right;\n",
       "    }\n",
       "</style>\n",
       "<table border=\"1\" class=\"dataframe\">\n",
       "  <thead>\n",
       "    <tr style=\"text-align: right;\">\n",
       "      <th></th>\n",
       "      <th>description_clean</th>\n",
       "      <th>movement_import</th>\n",
       "      <th>operation_date</th>\n",
       "    </tr>\n",
       "  </thead>\n",
       "  <tbody>\n",
       "    <tr>\n",
       "      <th>0</th>\n",
       "      <td>DEPOSITO DE EFECTIVO</td>\n",
       "      <td>200000.0000</td>\n",
       "      <td>2023-06-26</td>\n",
       "    </tr>\n",
       "    <tr>\n",
       "      <th>1</th>\n",
       "      <td>DEPOSITO DE EFECTIVO</td>\n",
       "      <td>199944.2358</td>\n",
       "      <td>2023-06-26</td>\n",
       "    </tr>\n",
       "    <tr>\n",
       "      <th>2</th>\n",
       "      <td>RETIRO DE EFECTIVO</td>\n",
       "      <td>199944.2358</td>\n",
       "      <td>2023-06-27</td>\n",
       "    </tr>\n",
       "    <tr>\n",
       "      <th>3</th>\n",
       "      <td>DEPOSITO DE EFECTIVO</td>\n",
       "      <td>199907.0719</td>\n",
       "      <td>2023-06-27</td>\n",
       "    </tr>\n",
       "    <tr>\n",
       "      <th>4</th>\n",
       "      <td>RETIRO DE EFECTIVO</td>\n",
       "      <td>199907.0719</td>\n",
       "      <td>2023-06-28</td>\n",
       "    </tr>\n",
       "  </tbody>\n",
       "</table>\n",
       "</div>"
      ],
      "text/plain": [
       "      description_clean  movement_import operation_date\n",
       "0  DEPOSITO DE EFECTIVO      200000.0000     2023-06-26\n",
       "1  DEPOSITO DE EFECTIVO      199944.2358     2023-06-26\n",
       "2    RETIRO DE EFECTIVO      199944.2358     2023-06-27\n",
       "3  DEPOSITO DE EFECTIVO      199907.0719     2023-06-27\n",
       "4    RETIRO DE EFECTIVO      199907.0719     2023-06-28"
      ]
     },
     "execution_count": 58,
     "metadata": {},
     "output_type": "execute_result"
    }
   ],
   "source": [
    "mov_clean['AHA84901'].head()"
   ]
  },
  {
   "cell_type": "code",
   "execution_count": 81,
   "id": "d4745441",
   "metadata": {},
   "outputs": [],
   "source": [
    "\n",
    "# 3. Función para agregar valores inicial y final\n",
    "def add_initial_final_values(bal_clean, mov_clean):\n",
    "    \"\"\"\n",
    "    Agrega valor inicial y final a los movimientos de cada contrato\n",
    "    Devuelve un diccionario {contrato: df_mov_completo}\n",
    "    \"\"\"\n",
    "    complete_data = {}\n",
    "    \n",
    "    for contract in mov_clean.keys():\n",
    "        if contract not in bal_clean:\n",
    "            continue\n",
    "            \n",
    "        # Obtener datos de movimientos y balances del contrato\n",
    "        mov_df = mov_clean[contract].copy()\n",
    "        bal_df = bal_clean[contract].copy()\n",
    "        \n",
    "        if len(bal_df) == 0 or len(mov_df) == 0:\n",
    "            continue\n",
    "        \n",
    "        # Renombrar el primer movimiento como VALOR_INICIAL\n",
    "        mov_df.iloc[0, mov_df.columns.get_loc('description_clean')] = 'VALOR_INICIAL'\n",
    "        \n",
    "        # Valor final (último balance) - signo positivo\n",
    "        final_value = bal_df.iloc[-1]\n",
    "        final_row = pd.DataFrame({\n",
    "            'description_clean': ['VALOR_FINAL'],\n",
    "            'movement_import': [final_value['portfolio_value']],\n",
    "            'operation_date': [final_value['balance_date']]\n",
    "        })\n",
    "        \n",
    "        # Ajustar signos de movimientos: depósitos negativos, retiros positivos\n",
    "        mov_df_adjusted = mov_df.copy()\n",
    "        for idx, row in mov_df_adjusted.iterrows():\n",
    "            if row['description_clean'] == 'DEPOSITO DE EFECTIVO':\n",
    "                mov_df_adjusted.at[idx, 'movement_import'] = -abs(row['movement_import'])\n",
    "            elif row['description_clean'] == 'RETIRO DE EFECTIVO':\n",
    "                mov_df_adjusted.at[idx, 'movement_import'] = abs(row['movement_import'])\n",
    "            elif row['description_clean'] == 'VALOR_INICIAL':\n",
    "                mov_df_adjusted.at[idx, 'movement_import'] = -abs(row['movement_import'])\n",
    "        \n",
    "        # Combinar todos los datos\n",
    "        complete_df = pd.concat([mov_df_adjusted, final_row], ignore_index=True)\n",
    "        complete_df = complete_df.sort_values('operation_date').reset_index(drop=True)\n",
    "        \n",
    "        complete_data[contract] = complete_df\n",
    "    \n",
    "    return complete_data"
   ]
  },
  {
   "cell_type": "code",
   "execution_count": 82,
   "id": "685500a6",
   "metadata": {},
   "outputs": [
    {
     "data": {
      "text/plain": [
       "dict_keys(['12861603', '20486403', 'AHA84901'])"
      ]
     },
     "execution_count": 82,
     "metadata": {},
     "output_type": "execute_result"
    }
   ],
   "source": [
    "complete_data = add_initial_final_values(bal_clean, mov_clean)\n",
    "complete_data.keys()"
   ]
  },
  {
   "cell_type": "markdown",
   "id": "7ab3cd22",
   "metadata": {},
   "source": [
    "#### Flujos contrato 12861603"
   ]
  },
  {
   "cell_type": "code",
   "execution_count": 85,
   "id": "05325f2a",
   "metadata": {},
   "outputs": [
    {
     "data": {
      "application/vnd.microsoft.datawrangler.viewer.v0+json": {
       "columns": [
        {
         "name": "index",
         "rawType": "int64",
         "type": "integer"
        },
        {
         "name": "description_clean",
         "rawType": "object",
         "type": "string"
        },
        {
         "name": "movement_import",
         "rawType": "float64",
         "type": "float"
        },
        {
         "name": "operation_date",
         "rawType": "datetime64[ns]",
         "type": "datetime"
        }
       ],
       "ref": "199ad907-1dc6-471f-8f03-946057497870",
       "rows": [
        [
         "0",
         "VALOR_INICIAL",
         "-100000.0",
         "2023-01-12 00:00:00"
        ],
        [
         "1",
         "DEPOSITO DE EFECTIVO",
         "-99915.0002",
         "2023-01-13 00:00:00"
        ],
        [
         "2",
         "RETIRO DE EFECTIVO",
         "99996.1983",
         "2023-01-16 00:00:00"
        ],
        [
         "3",
         "DEPOSITO DE EFECTIVO",
         "-167000.0",
         "2023-01-16 00:00:00"
        ],
        [
         "4",
         "DEPOSITO DE EFECTIVO",
         "-100008.798",
         "2023-01-16 00:00:00"
        ]
       ],
       "shape": {
        "columns": 3,
        "rows": 5
       }
      },
      "text/html": [
       "<div>\n",
       "<style scoped>\n",
       "    .dataframe tbody tr th:only-of-type {\n",
       "        vertical-align: middle;\n",
       "    }\n",
       "\n",
       "    .dataframe tbody tr th {\n",
       "        vertical-align: top;\n",
       "    }\n",
       "\n",
       "    .dataframe thead th {\n",
       "        text-align: right;\n",
       "    }\n",
       "</style>\n",
       "<table border=\"1\" class=\"dataframe\">\n",
       "  <thead>\n",
       "    <tr style=\"text-align: right;\">\n",
       "      <th></th>\n",
       "      <th>description_clean</th>\n",
       "      <th>movement_import</th>\n",
       "      <th>operation_date</th>\n",
       "    </tr>\n",
       "  </thead>\n",
       "  <tbody>\n",
       "    <tr>\n",
       "      <th>0</th>\n",
       "      <td>VALOR_INICIAL</td>\n",
       "      <td>-100000.0000</td>\n",
       "      <td>2023-01-12</td>\n",
       "    </tr>\n",
       "    <tr>\n",
       "      <th>1</th>\n",
       "      <td>DEPOSITO DE EFECTIVO</td>\n",
       "      <td>-99915.0002</td>\n",
       "      <td>2023-01-13</td>\n",
       "    </tr>\n",
       "    <tr>\n",
       "      <th>2</th>\n",
       "      <td>RETIRO DE EFECTIVO</td>\n",
       "      <td>99996.1983</td>\n",
       "      <td>2023-01-16</td>\n",
       "    </tr>\n",
       "    <tr>\n",
       "      <th>3</th>\n",
       "      <td>DEPOSITO DE EFECTIVO</td>\n",
       "      <td>-167000.0000</td>\n",
       "      <td>2023-01-16</td>\n",
       "    </tr>\n",
       "    <tr>\n",
       "      <th>4</th>\n",
       "      <td>DEPOSITO DE EFECTIVO</td>\n",
       "      <td>-100008.7980</td>\n",
       "      <td>2023-01-16</td>\n",
       "    </tr>\n",
       "  </tbody>\n",
       "</table>\n",
       "</div>"
      ],
      "text/plain": [
       "      description_clean  movement_import operation_date\n",
       "0         VALOR_INICIAL     -100000.0000     2023-01-12\n",
       "1  DEPOSITO DE EFECTIVO      -99915.0002     2023-01-13\n",
       "2    RETIRO DE EFECTIVO       99996.1983     2023-01-16\n",
       "3  DEPOSITO DE EFECTIVO     -167000.0000     2023-01-16\n",
       "4  DEPOSITO DE EFECTIVO     -100008.7980     2023-01-16"
      ]
     },
     "execution_count": 85,
     "metadata": {},
     "output_type": "execute_result"
    }
   ],
   "source": [
    "complete_data['12861603'].head()"
   ]
  },
  {
   "cell_type": "code",
   "execution_count": 94,
   "id": "4c0d46ab",
   "metadata": {},
   "outputs": [
    {
     "data": {
      "application/vnd.microsoft.datawrangler.viewer.v0+json": {
       "columns": [
        {
         "name": "index",
         "rawType": "int64",
         "type": "integer"
        },
        {
         "name": "description_clean",
         "rawType": "object",
         "type": "string"
        },
        {
         "name": "movement_import",
         "rawType": "float64",
         "type": "float"
        },
        {
         "name": "operation_date",
         "rawType": "datetime64[ns]",
         "type": "datetime"
        }
       ],
       "ref": "ecea7da5-e702-465a-b265-7ef777acc0e3",
       "rows": [
        [
         "439",
         "RETIRO DE EFECTIVO",
         "5177.628",
         "2023-11-17 00:00:00"
        ],
        [
         "440",
         "DEPOSITO DE EFECTIVO",
         "-100.0667",
         "2023-11-17 00:00:00"
        ],
        [
         "441",
         "RETIRO DE EFECTIVO",
         "100.1835",
         "2023-11-21 00:00:00"
        ],
        [
         "442",
         "DEPOSITO DE EFECTIVO",
         "-3002.8178",
         "2023-11-30 00:00:00"
        ],
        [
         "443",
         "VALOR_FINAL",
         "223059.8805",
         "2023-11-30 00:00:00"
        ],
        [
         "444",
         "RETIRO DE EFECTIVO",
         "30000.0",
         "2023-11-30 00:00:00"
        ],
        [
         "445",
         "RETIRO DE EFECTIVO",
         "17847.3064",
         "2023-11-30 00:00:00"
        ],
        [
         "446",
         "DEPOSITO DE EFECTIVO",
         "-3003.6992",
         "2023-12-01 00:00:00"
        ],
        [
         "447",
         "RETIRO DE EFECTIVO",
         "3003.6938",
         "2023-12-01 00:00:00"
        ],
        [
         "448",
         "RETIRO DE EFECTIVO",
         "3006.328",
         "2023-12-04 00:00:00"
        ]
       ],
       "shape": {
        "columns": 3,
        "rows": 10
       }
      },
      "text/html": [
       "<div>\n",
       "<style scoped>\n",
       "    .dataframe tbody tr th:only-of-type {\n",
       "        vertical-align: middle;\n",
       "    }\n",
       "\n",
       "    .dataframe tbody tr th {\n",
       "        vertical-align: top;\n",
       "    }\n",
       "\n",
       "    .dataframe thead th {\n",
       "        text-align: right;\n",
       "    }\n",
       "</style>\n",
       "<table border=\"1\" class=\"dataframe\">\n",
       "  <thead>\n",
       "    <tr style=\"text-align: right;\">\n",
       "      <th></th>\n",
       "      <th>description_clean</th>\n",
       "      <th>movement_import</th>\n",
       "      <th>operation_date</th>\n",
       "    </tr>\n",
       "  </thead>\n",
       "  <tbody>\n",
       "    <tr>\n",
       "      <th>439</th>\n",
       "      <td>RETIRO DE EFECTIVO</td>\n",
       "      <td>5177.6280</td>\n",
       "      <td>2023-11-17</td>\n",
       "    </tr>\n",
       "    <tr>\n",
       "      <th>440</th>\n",
       "      <td>DEPOSITO DE EFECTIVO</td>\n",
       "      <td>-100.0667</td>\n",
       "      <td>2023-11-17</td>\n",
       "    </tr>\n",
       "    <tr>\n",
       "      <th>441</th>\n",
       "      <td>RETIRO DE EFECTIVO</td>\n",
       "      <td>100.1835</td>\n",
       "      <td>2023-11-21</td>\n",
       "    </tr>\n",
       "    <tr>\n",
       "      <th>442</th>\n",
       "      <td>DEPOSITO DE EFECTIVO</td>\n",
       "      <td>-3002.8178</td>\n",
       "      <td>2023-11-30</td>\n",
       "    </tr>\n",
       "    <tr>\n",
       "      <th>443</th>\n",
       "      <td>VALOR_FINAL</td>\n",
       "      <td>223059.8805</td>\n",
       "      <td>2023-11-30</td>\n",
       "    </tr>\n",
       "    <tr>\n",
       "      <th>444</th>\n",
       "      <td>RETIRO DE EFECTIVO</td>\n",
       "      <td>30000.0000</td>\n",
       "      <td>2023-11-30</td>\n",
       "    </tr>\n",
       "    <tr>\n",
       "      <th>445</th>\n",
       "      <td>RETIRO DE EFECTIVO</td>\n",
       "      <td>17847.3064</td>\n",
       "      <td>2023-11-30</td>\n",
       "    </tr>\n",
       "    <tr>\n",
       "      <th>446</th>\n",
       "      <td>DEPOSITO DE EFECTIVO</td>\n",
       "      <td>-3003.6992</td>\n",
       "      <td>2023-12-01</td>\n",
       "    </tr>\n",
       "    <tr>\n",
       "      <th>447</th>\n",
       "      <td>RETIRO DE EFECTIVO</td>\n",
       "      <td>3003.6938</td>\n",
       "      <td>2023-12-01</td>\n",
       "    </tr>\n",
       "    <tr>\n",
       "      <th>448</th>\n",
       "      <td>RETIRO DE EFECTIVO</td>\n",
       "      <td>3006.3280</td>\n",
       "      <td>2023-12-04</td>\n",
       "    </tr>\n",
       "  </tbody>\n",
       "</table>\n",
       "</div>"
      ],
      "text/plain": [
       "        description_clean  movement_import operation_date\n",
       "439    RETIRO DE EFECTIVO        5177.6280     2023-11-17\n",
       "440  DEPOSITO DE EFECTIVO        -100.0667     2023-11-17\n",
       "441    RETIRO DE EFECTIVO         100.1835     2023-11-21\n",
       "442  DEPOSITO DE EFECTIVO       -3002.8178     2023-11-30\n",
       "443           VALOR_FINAL      223059.8805     2023-11-30\n",
       "444    RETIRO DE EFECTIVO       30000.0000     2023-11-30\n",
       "445    RETIRO DE EFECTIVO       17847.3064     2023-11-30\n",
       "446  DEPOSITO DE EFECTIVO       -3003.6992     2023-12-01\n",
       "447    RETIRO DE EFECTIVO        3003.6938     2023-12-01\n",
       "448    RETIRO DE EFECTIVO        3006.3280     2023-12-04"
      ]
     },
     "execution_count": 94,
     "metadata": {},
     "output_type": "execute_result"
    }
   ],
   "source": [
    "complete_data['12861603'].tail(10)"
   ]
  },
  {
   "cell_type": "markdown",
   "id": "54fbd3aa",
   "metadata": {},
   "source": [
    "#### Flujos contrato 20486403"
   ]
  },
  {
   "cell_type": "code",
   "execution_count": 89,
   "id": "c76d579e",
   "metadata": {},
   "outputs": [
    {
     "data": {
      "application/vnd.microsoft.datawrangler.viewer.v0+json": {
       "columns": [
        {
         "name": "index",
         "rawType": "int64",
         "type": "integer"
        },
        {
         "name": "description_clean",
         "rawType": "object",
         "type": "string"
        },
        {
         "name": "movement_import",
         "rawType": "float64",
         "type": "float"
        },
        {
         "name": "operation_date",
         "rawType": "datetime64[ns]",
         "type": "datetime"
        }
       ],
       "ref": "4dd71ff5-633c-48c0-9e2b-88fa6b6a05be",
       "rows": [
        [
         "0",
         "VALOR_INICIAL",
         "-13851.9599",
         "2022-12-15 00:00:00"
        ],
        [
         "1",
         "RETIRO DE EFECTIVO",
         "13855.4502",
         "2022-12-16 00:00:00"
        ],
        [
         "2",
         "DEPOSITO DE EFECTIVO",
         "-13931.5475",
         "2022-12-16 00:00:00"
        ],
        [
         "3",
         "RETIRO DE EFECTIVO",
         "13942.6592",
         "2022-12-19 00:00:00"
        ],
        [
         "4",
         "DEPOSITO DE EFECTIVO",
         "-13942.799",
         "2022-12-19 00:00:00"
        ]
       ],
       "shape": {
        "columns": 3,
        "rows": 5
       }
      },
      "text/html": [
       "<div>\n",
       "<style scoped>\n",
       "    .dataframe tbody tr th:only-of-type {\n",
       "        vertical-align: middle;\n",
       "    }\n",
       "\n",
       "    .dataframe tbody tr th {\n",
       "        vertical-align: top;\n",
       "    }\n",
       "\n",
       "    .dataframe thead th {\n",
       "        text-align: right;\n",
       "    }\n",
       "</style>\n",
       "<table border=\"1\" class=\"dataframe\">\n",
       "  <thead>\n",
       "    <tr style=\"text-align: right;\">\n",
       "      <th></th>\n",
       "      <th>description_clean</th>\n",
       "      <th>movement_import</th>\n",
       "      <th>operation_date</th>\n",
       "    </tr>\n",
       "  </thead>\n",
       "  <tbody>\n",
       "    <tr>\n",
       "      <th>0</th>\n",
       "      <td>VALOR_INICIAL</td>\n",
       "      <td>-13851.9599</td>\n",
       "      <td>2022-12-15</td>\n",
       "    </tr>\n",
       "    <tr>\n",
       "      <th>1</th>\n",
       "      <td>RETIRO DE EFECTIVO</td>\n",
       "      <td>13855.4502</td>\n",
       "      <td>2022-12-16</td>\n",
       "    </tr>\n",
       "    <tr>\n",
       "      <th>2</th>\n",
       "      <td>DEPOSITO DE EFECTIVO</td>\n",
       "      <td>-13931.5475</td>\n",
       "      <td>2022-12-16</td>\n",
       "    </tr>\n",
       "    <tr>\n",
       "      <th>3</th>\n",
       "      <td>RETIRO DE EFECTIVO</td>\n",
       "      <td>13942.6592</td>\n",
       "      <td>2022-12-19</td>\n",
       "    </tr>\n",
       "    <tr>\n",
       "      <th>4</th>\n",
       "      <td>DEPOSITO DE EFECTIVO</td>\n",
       "      <td>-13942.7990</td>\n",
       "      <td>2022-12-19</td>\n",
       "    </tr>\n",
       "  </tbody>\n",
       "</table>\n",
       "</div>"
      ],
      "text/plain": [
       "      description_clean  movement_import operation_date\n",
       "0         VALOR_INICIAL      -13851.9599     2022-12-15\n",
       "1    RETIRO DE EFECTIVO       13855.4502     2022-12-16\n",
       "2  DEPOSITO DE EFECTIVO      -13931.5475     2022-12-16\n",
       "3    RETIRO DE EFECTIVO       13942.6592     2022-12-19\n",
       "4  DEPOSITO DE EFECTIVO      -13942.7990     2022-12-19"
      ]
     },
     "execution_count": 89,
     "metadata": {},
     "output_type": "execute_result"
    }
   ],
   "source": [
    "complete_data['20486403'].head()"
   ]
  },
  {
   "cell_type": "code",
   "execution_count": 93,
   "id": "6b17ce8a",
   "metadata": {},
   "outputs": [
    {
     "data": {
      "application/vnd.microsoft.datawrangler.viewer.v0+json": {
       "columns": [
        {
         "name": "index",
         "rawType": "int64",
         "type": "integer"
        },
        {
         "name": "description_clean",
         "rawType": "object",
         "type": "string"
        },
        {
         "name": "movement_import",
         "rawType": "float64",
         "type": "float"
        },
        {
         "name": "operation_date",
         "rawType": "datetime64[ns]",
         "type": "datetime"
        }
       ],
       "ref": "54ad98ea-f426-4ce6-a2b1-02875907faad",
       "rows": [
        [
         "439",
         "RETIRO DE EFECTIVO",
         "5177.628",
         "2023-11-17 00:00:00"
        ],
        [
         "440",
         "DEPOSITO DE EFECTIVO",
         "-100.0667",
         "2023-11-17 00:00:00"
        ],
        [
         "441",
         "RETIRO DE EFECTIVO",
         "100.1835",
         "2023-11-21 00:00:00"
        ],
        [
         "442",
         "DEPOSITO DE EFECTIVO",
         "-3002.8178",
         "2023-11-30 00:00:00"
        ],
        [
         "443",
         "VALOR_FINAL",
         "223059.8805",
         "2023-11-30 00:00:00"
        ],
        [
         "444",
         "RETIRO DE EFECTIVO",
         "30000.0",
         "2023-11-30 00:00:00"
        ],
        [
         "445",
         "RETIRO DE EFECTIVO",
         "17847.3064",
         "2023-11-30 00:00:00"
        ],
        [
         "446",
         "DEPOSITO DE EFECTIVO",
         "-3003.6992",
         "2023-12-01 00:00:00"
        ],
        [
         "447",
         "RETIRO DE EFECTIVO",
         "3003.6938",
         "2023-12-01 00:00:00"
        ],
        [
         "448",
         "RETIRO DE EFECTIVO",
         "3006.328",
         "2023-12-04 00:00:00"
        ]
       ],
       "shape": {
        "columns": 3,
        "rows": 10
       }
      },
      "text/html": [
       "<div>\n",
       "<style scoped>\n",
       "    .dataframe tbody tr th:only-of-type {\n",
       "        vertical-align: middle;\n",
       "    }\n",
       "\n",
       "    .dataframe tbody tr th {\n",
       "        vertical-align: top;\n",
       "    }\n",
       "\n",
       "    .dataframe thead th {\n",
       "        text-align: right;\n",
       "    }\n",
       "</style>\n",
       "<table border=\"1\" class=\"dataframe\">\n",
       "  <thead>\n",
       "    <tr style=\"text-align: right;\">\n",
       "      <th></th>\n",
       "      <th>description_clean</th>\n",
       "      <th>movement_import</th>\n",
       "      <th>operation_date</th>\n",
       "    </tr>\n",
       "  </thead>\n",
       "  <tbody>\n",
       "    <tr>\n",
       "      <th>439</th>\n",
       "      <td>RETIRO DE EFECTIVO</td>\n",
       "      <td>5177.6280</td>\n",
       "      <td>2023-11-17</td>\n",
       "    </tr>\n",
       "    <tr>\n",
       "      <th>440</th>\n",
       "      <td>DEPOSITO DE EFECTIVO</td>\n",
       "      <td>-100.0667</td>\n",
       "      <td>2023-11-17</td>\n",
       "    </tr>\n",
       "    <tr>\n",
       "      <th>441</th>\n",
       "      <td>RETIRO DE EFECTIVO</td>\n",
       "      <td>100.1835</td>\n",
       "      <td>2023-11-21</td>\n",
       "    </tr>\n",
       "    <tr>\n",
       "      <th>442</th>\n",
       "      <td>DEPOSITO DE EFECTIVO</td>\n",
       "      <td>-3002.8178</td>\n",
       "      <td>2023-11-30</td>\n",
       "    </tr>\n",
       "    <tr>\n",
       "      <th>443</th>\n",
       "      <td>VALOR_FINAL</td>\n",
       "      <td>223059.8805</td>\n",
       "      <td>2023-11-30</td>\n",
       "    </tr>\n",
       "    <tr>\n",
       "      <th>444</th>\n",
       "      <td>RETIRO DE EFECTIVO</td>\n",
       "      <td>30000.0000</td>\n",
       "      <td>2023-11-30</td>\n",
       "    </tr>\n",
       "    <tr>\n",
       "      <th>445</th>\n",
       "      <td>RETIRO DE EFECTIVO</td>\n",
       "      <td>17847.3064</td>\n",
       "      <td>2023-11-30</td>\n",
       "    </tr>\n",
       "    <tr>\n",
       "      <th>446</th>\n",
       "      <td>DEPOSITO DE EFECTIVO</td>\n",
       "      <td>-3003.6992</td>\n",
       "      <td>2023-12-01</td>\n",
       "    </tr>\n",
       "    <tr>\n",
       "      <th>447</th>\n",
       "      <td>RETIRO DE EFECTIVO</td>\n",
       "      <td>3003.6938</td>\n",
       "      <td>2023-12-01</td>\n",
       "    </tr>\n",
       "    <tr>\n",
       "      <th>448</th>\n",
       "      <td>RETIRO DE EFECTIVO</td>\n",
       "      <td>3006.3280</td>\n",
       "      <td>2023-12-04</td>\n",
       "    </tr>\n",
       "  </tbody>\n",
       "</table>\n",
       "</div>"
      ],
      "text/plain": [
       "        description_clean  movement_import operation_date\n",
       "439    RETIRO DE EFECTIVO        5177.6280     2023-11-17\n",
       "440  DEPOSITO DE EFECTIVO        -100.0667     2023-11-17\n",
       "441    RETIRO DE EFECTIVO         100.1835     2023-11-21\n",
       "442  DEPOSITO DE EFECTIVO       -3002.8178     2023-11-30\n",
       "443           VALOR_FINAL      223059.8805     2023-11-30\n",
       "444    RETIRO DE EFECTIVO       30000.0000     2023-11-30\n",
       "445    RETIRO DE EFECTIVO       17847.3064     2023-11-30\n",
       "446  DEPOSITO DE EFECTIVO       -3003.6992     2023-12-01\n",
       "447    RETIRO DE EFECTIVO        3003.6938     2023-12-01\n",
       "448    RETIRO DE EFECTIVO        3006.3280     2023-12-04"
      ]
     },
     "execution_count": 93,
     "metadata": {},
     "output_type": "execute_result"
    }
   ],
   "source": [
    "complete_data['12861603'].tail(10)"
   ]
  },
  {
   "cell_type": "markdown",
   "id": "dac64c1d",
   "metadata": {},
   "source": [
    "#### Flujos contrato AHA84901"
   ]
  },
  {
   "cell_type": "code",
   "execution_count": 92,
   "id": "9df05e6a",
   "metadata": {},
   "outputs": [
    {
     "data": {
      "application/vnd.microsoft.datawrangler.viewer.v0+json": {
       "columns": [
        {
         "name": "index",
         "rawType": "int64",
         "type": "integer"
        },
        {
         "name": "description_clean",
         "rawType": "object",
         "type": "string"
        },
        {
         "name": "movement_import",
         "rawType": "float64",
         "type": "float"
        },
        {
         "name": "operation_date",
         "rawType": "datetime64[ns]",
         "type": "datetime"
        }
       ],
       "ref": "ffd1f34d-45a2-4365-9675-6229d949b221",
       "rows": [
        [
         "0",
         "VALOR_INICIAL",
         "-200000.0",
         "2023-06-26 00:00:00"
        ],
        [
         "1",
         "DEPOSITO DE EFECTIVO",
         "-199944.2358",
         "2023-06-26 00:00:00"
        ],
        [
         "2",
         "RETIRO DE EFECTIVO",
         "199944.2358",
         "2023-06-27 00:00:00"
        ],
        [
         "3",
         "DEPOSITO DE EFECTIVO",
         "-199907.0719",
         "2023-06-27 00:00:00"
        ],
        [
         "4",
         "DEPOSITO DE EFECTIVO",
         "-5000.0",
         "2023-06-27 00:00:00"
        ]
       ],
       "shape": {
        "columns": 3,
        "rows": 5
       }
      },
      "text/html": [
       "<div>\n",
       "<style scoped>\n",
       "    .dataframe tbody tr th:only-of-type {\n",
       "        vertical-align: middle;\n",
       "    }\n",
       "\n",
       "    .dataframe tbody tr th {\n",
       "        vertical-align: top;\n",
       "    }\n",
       "\n",
       "    .dataframe thead th {\n",
       "        text-align: right;\n",
       "    }\n",
       "</style>\n",
       "<table border=\"1\" class=\"dataframe\">\n",
       "  <thead>\n",
       "    <tr style=\"text-align: right;\">\n",
       "      <th></th>\n",
       "      <th>description_clean</th>\n",
       "      <th>movement_import</th>\n",
       "      <th>operation_date</th>\n",
       "    </tr>\n",
       "  </thead>\n",
       "  <tbody>\n",
       "    <tr>\n",
       "      <th>0</th>\n",
       "      <td>VALOR_INICIAL</td>\n",
       "      <td>-200000.0000</td>\n",
       "      <td>2023-06-26</td>\n",
       "    </tr>\n",
       "    <tr>\n",
       "      <th>1</th>\n",
       "      <td>DEPOSITO DE EFECTIVO</td>\n",
       "      <td>-199944.2358</td>\n",
       "      <td>2023-06-26</td>\n",
       "    </tr>\n",
       "    <tr>\n",
       "      <th>2</th>\n",
       "      <td>RETIRO DE EFECTIVO</td>\n",
       "      <td>199944.2358</td>\n",
       "      <td>2023-06-27</td>\n",
       "    </tr>\n",
       "    <tr>\n",
       "      <th>3</th>\n",
       "      <td>DEPOSITO DE EFECTIVO</td>\n",
       "      <td>-199907.0719</td>\n",
       "      <td>2023-06-27</td>\n",
       "    </tr>\n",
       "    <tr>\n",
       "      <th>4</th>\n",
       "      <td>DEPOSITO DE EFECTIVO</td>\n",
       "      <td>-5000.0000</td>\n",
       "      <td>2023-06-27</td>\n",
       "    </tr>\n",
       "  </tbody>\n",
       "</table>\n",
       "</div>"
      ],
      "text/plain": [
       "      description_clean  movement_import operation_date\n",
       "0         VALOR_INICIAL     -200000.0000     2023-06-26\n",
       "1  DEPOSITO DE EFECTIVO     -199944.2358     2023-06-26\n",
       "2    RETIRO DE EFECTIVO      199944.2358     2023-06-27\n",
       "3  DEPOSITO DE EFECTIVO     -199907.0719     2023-06-27\n",
       "4  DEPOSITO DE EFECTIVO       -5000.0000     2023-06-27"
      ]
     },
     "execution_count": 92,
     "metadata": {},
     "output_type": "execute_result"
    }
   ],
   "source": [
    "complete_data['AHA84901'].head()"
   ]
  },
  {
   "cell_type": "code",
   "execution_count": 91,
   "id": "891a2c31",
   "metadata": {},
   "outputs": [
    {
     "data": {
      "application/vnd.microsoft.datawrangler.viewer.v0+json": {
       "columns": [
        {
         "name": "index",
         "rawType": "int64",
         "type": "integer"
        },
        {
         "name": "description_clean",
         "rawType": "object",
         "type": "string"
        },
        {
         "name": "movement_import",
         "rawType": "float64",
         "type": "float"
        },
        {
         "name": "operation_date",
         "rawType": "datetime64[ns]",
         "type": "datetime"
        }
       ],
       "ref": "72a9e06f-23b6-4c4b-8749-f39c0a79aac9",
       "rows": [
        [
         "225",
         "RETIRO DE EFECTIVO",
         "11880.2954",
         "2023-11-28 00:00:00"
        ],
        [
         "226",
         "DEPOSITO DE EFECTIVO",
         "-11959.7666",
         "2023-11-28 00:00:00"
        ],
        [
         "227",
         "DEPOSITO DE EFECTIVO",
         "-11935.0192",
         "2023-11-29 00:00:00"
        ],
        [
         "228",
         "RETIRO DE EFECTIVO",
         "11963.2556",
         "2023-11-29 00:00:00"
        ],
        [
         "229",
         "DEPOSITO DE EFECTIVO",
         "-11936.109",
         "2023-11-30 00:00:00"
        ],
        [
         "230",
         "VALOR_FINAL",
         "430842.6591",
         "2023-11-30 00:00:00"
        ],
        [
         "231",
         "RETIRO DE EFECTIVO",
         "11938.1694",
         "2023-11-30 00:00:00"
        ],
        [
         "232",
         "DEPOSITO DE EFECTIVO",
         "-11939.6496",
         "2023-12-01 00:00:00"
        ],
        [
         "233",
         "RETIRO DE EFECTIVO",
         "11939.591",
         "2023-12-01 00:00:00"
        ],
        [
         "234",
         "RETIRO DE EFECTIVO",
         "11950.0988",
         "2023-12-04 00:00:00"
        ]
       ],
       "shape": {
        "columns": 3,
        "rows": 10
       }
      },
      "text/html": [
       "<div>\n",
       "<style scoped>\n",
       "    .dataframe tbody tr th:only-of-type {\n",
       "        vertical-align: middle;\n",
       "    }\n",
       "\n",
       "    .dataframe tbody tr th {\n",
       "        vertical-align: top;\n",
       "    }\n",
       "\n",
       "    .dataframe thead th {\n",
       "        text-align: right;\n",
       "    }\n",
       "</style>\n",
       "<table border=\"1\" class=\"dataframe\">\n",
       "  <thead>\n",
       "    <tr style=\"text-align: right;\">\n",
       "      <th></th>\n",
       "      <th>description_clean</th>\n",
       "      <th>movement_import</th>\n",
       "      <th>operation_date</th>\n",
       "    </tr>\n",
       "  </thead>\n",
       "  <tbody>\n",
       "    <tr>\n",
       "      <th>225</th>\n",
       "      <td>RETIRO DE EFECTIVO</td>\n",
       "      <td>11880.2954</td>\n",
       "      <td>2023-11-28</td>\n",
       "    </tr>\n",
       "    <tr>\n",
       "      <th>226</th>\n",
       "      <td>DEPOSITO DE EFECTIVO</td>\n",
       "      <td>-11959.7666</td>\n",
       "      <td>2023-11-28</td>\n",
       "    </tr>\n",
       "    <tr>\n",
       "      <th>227</th>\n",
       "      <td>DEPOSITO DE EFECTIVO</td>\n",
       "      <td>-11935.0192</td>\n",
       "      <td>2023-11-29</td>\n",
       "    </tr>\n",
       "    <tr>\n",
       "      <th>228</th>\n",
       "      <td>RETIRO DE EFECTIVO</td>\n",
       "      <td>11963.2556</td>\n",
       "      <td>2023-11-29</td>\n",
       "    </tr>\n",
       "    <tr>\n",
       "      <th>229</th>\n",
       "      <td>DEPOSITO DE EFECTIVO</td>\n",
       "      <td>-11936.1090</td>\n",
       "      <td>2023-11-30</td>\n",
       "    </tr>\n",
       "    <tr>\n",
       "      <th>230</th>\n",
       "      <td>VALOR_FINAL</td>\n",
       "      <td>430842.6591</td>\n",
       "      <td>2023-11-30</td>\n",
       "    </tr>\n",
       "    <tr>\n",
       "      <th>231</th>\n",
       "      <td>RETIRO DE EFECTIVO</td>\n",
       "      <td>11938.1694</td>\n",
       "      <td>2023-11-30</td>\n",
       "    </tr>\n",
       "    <tr>\n",
       "      <th>232</th>\n",
       "      <td>DEPOSITO DE EFECTIVO</td>\n",
       "      <td>-11939.6496</td>\n",
       "      <td>2023-12-01</td>\n",
       "    </tr>\n",
       "    <tr>\n",
       "      <th>233</th>\n",
       "      <td>RETIRO DE EFECTIVO</td>\n",
       "      <td>11939.5910</td>\n",
       "      <td>2023-12-01</td>\n",
       "    </tr>\n",
       "    <tr>\n",
       "      <th>234</th>\n",
       "      <td>RETIRO DE EFECTIVO</td>\n",
       "      <td>11950.0988</td>\n",
       "      <td>2023-12-04</td>\n",
       "    </tr>\n",
       "  </tbody>\n",
       "</table>\n",
       "</div>"
      ],
      "text/plain": [
       "        description_clean  movement_import operation_date\n",
       "225    RETIRO DE EFECTIVO       11880.2954     2023-11-28\n",
       "226  DEPOSITO DE EFECTIVO      -11959.7666     2023-11-28\n",
       "227  DEPOSITO DE EFECTIVO      -11935.0192     2023-11-29\n",
       "228    RETIRO DE EFECTIVO       11963.2556     2023-11-29\n",
       "229  DEPOSITO DE EFECTIVO      -11936.1090     2023-11-30\n",
       "230           VALOR_FINAL      430842.6591     2023-11-30\n",
       "231    RETIRO DE EFECTIVO       11938.1694     2023-11-30\n",
       "232  DEPOSITO DE EFECTIVO      -11939.6496     2023-12-01\n",
       "233    RETIRO DE EFECTIVO       11939.5910     2023-12-01\n",
       "234    RETIRO DE EFECTIVO       11950.0988     2023-12-04"
      ]
     },
     "execution_count": 91,
     "metadata": {},
     "output_type": "execute_result"
    }
   ],
   "source": [
    "complete_data['AHA84901'].tail(10)"
   ]
  },
  {
   "cell_type": "code",
   "execution_count": 86,
   "id": "ba5d892e",
   "metadata": {},
   "outputs": [],
   "source": [
    "# 4. Función para calcular MWRR\n",
    "def calculate_mwrr_by_contract(complete_data):\n",
    "    \"\"\"\n",
    "    Calcula el MWRR (TIR) para cada contrato usando pyxirr\n",
    "    Devuelve un diccionario {contrato: mwrr}\n",
    "    \"\"\"\n",
    "    mwrr_results = {}\n",
    "    \n",
    "    for contract, df in complete_data.items():\n",
    "        try:\n",
    "            dates = df['operation_date'].tolist()\n",
    "            amounts = df['movement_import'].tolist()\n",
    "            \n",
    "            # Calcular MWRR usando pyxirr\n",
    "            mwrr = px.xirr(dates, amounts)\n",
    "            mwrr_results[contract] = mwrr\n",
    "            \n",
    "        except Exception as e:\n",
    "            print(f\"Error calculando MWRR para contrato {contract}: {e}\")\n",
    "            mwrr_results[contract] = None\n",
    "    \n",
    "    return mwrr_results"
   ]
  },
  {
   "cell_type": "markdown",
   "id": "7cfcc618",
   "metadata": {},
   "source": [
    "#### Resultados"
   ]
  },
  {
   "cell_type": "code",
   "execution_count": 95,
   "id": "0760b555",
   "metadata": {},
   "outputs": [
    {
     "name": "stdout",
     "output_type": "stream",
     "text": [
      "MWRR por contrato:\n",
      "12861603: 53.40%\n",
      "20486403: 13081.19%\n",
      "AHA84901: 10.58%\n"
     ]
    }
   ],
   "source": [
    "mwrr_by_contract = calculate_mwrr_by_contract(complete_data)\n",
    "\n",
    "print(\"MWRR por contrato:\")\n",
    "for contract, mwrr in mwrr_by_contract.items():\n",
    "    if mwrr is not None:\n",
    "        print(f\"{contract}: {mwrr:.2%}\")\n",
    "    else:\n",
    "        print(f\"{contract}: Error en cálculo\")"
   ]
  }
 ],
 "metadata": {
  "kernelspec": {
   "display_name": "base",
   "language": "python",
   "name": "python3"
  },
  "language_info": {
   "codemirror_mode": {
    "name": "ipython",
    "version": 3
   },
   "file_extension": ".py",
   "mimetype": "text/x-python",
   "name": "python",
   "nbconvert_exporter": "python",
   "pygments_lexer": "ipython3",
   "version": "3.10.9"
  }
 },
 "nbformat": 4,
 "nbformat_minor": 5
}
