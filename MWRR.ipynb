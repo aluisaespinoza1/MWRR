{
 "cells": [
  {
   "cell_type": "markdown",
   "id": "1f64cb28",
   "metadata": {},
   "source": [
    "# MWRR Activity\n",
    "Integrantes:"
   ]
  },
  {
   "cell_type": "code",
   "execution_count": 11,
   "id": "e7deab6f",
   "metadata": {},
   "outputs": [],
   "source": [
    "import pyxirr as px\n",
    "import numpy as np\n",
    "import pandas as pd\n",
    "import dateparser as dp\n",
    "import utils as ut"
   ]
  },
  {
   "cell_type": "code",
   "execution_count": 7,
   "id": "95935db7",
   "metadata": {},
   "outputs": [],
   "source": [
    "balances = pd.read_excel('data_actividad.xlsx', sheet_name='balances')\n",
    "movements = pd.read_excel('data_actividad.xlsx', sheet_name='movements')"
   ]
  },
  {
   "cell_type": "code",
   "execution_count": 4,
   "id": "e662e34c",
   "metadata": {},
   "outputs": [],
   "source": [
    "def clean_balance_data(data):\n",
    "    cols = ['contract','value_pos_mdo','balance_date']\n",
    "    df = data[cols]\n",
    "\n",
    "    df['balance_date_2'] = df[\"balance_date\"].apply(lambda x: dp.parse(x))\n",
    "    #df[\"balance_date_2\"] = df[\"balance_date_2\"].dt.strftime(\"%d-%m-%Y\")\n",
    "    #df[\"balance_date_2\"] = pd.to_datetime(df[\"balance_date_2\"], errors=\"coerce\", dayfirst=True)\n",
    "    clean_balance_data = (df.groupby([\"contract\", \"balance_date_2\"], as_index=False)[\"value_pos_mdo\"]\n",
    "      .sum()\n",
    ")\n",
    "\n",
    "    return clean_balance_data"
   ]
  },
  {
   "cell_type": "code",
   "execution_count": 10,
   "id": "fad2e9f2",
   "metadata": {},
   "outputs": [
    {
     "name": "stderr",
     "output_type": "stream",
     "text": [
      "/var/folders/rn/hjwtr25n6llg8vbsq0pnyv2w0000gn/T/ipykernel_51029/2394315205.py:5: SettingWithCopyWarning: \n",
      "A value is trying to be set on a copy of a slice from a DataFrame.\n",
      "Try using .loc[row_indexer,col_indexer] = value instead\n",
      "\n",
      "See the caveats in the documentation: https://pandas.pydata.org/pandas-docs/stable/user_guide/indexing.html#returning-a-view-versus-a-copy\n",
      "  df['balance_date_2'] = df[\"balance_date\"].apply(lambda x: dp.parse(x))\n"
     ]
    },
    {
     "data": {
      "text/html": [
       "<div>\n",
       "<style scoped>\n",
       "    .dataframe tbody tr th:only-of-type {\n",
       "        vertical-align: middle;\n",
       "    }\n",
       "\n",
       "    .dataframe tbody tr th {\n",
       "        vertical-align: top;\n",
       "    }\n",
       "\n",
       "    .dataframe thead th {\n",
       "        text-align: right;\n",
       "    }\n",
       "</style>\n",
       "<table border=\"1\" class=\"dataframe\">\n",
       "  <thead>\n",
       "    <tr style=\"text-align: right;\">\n",
       "      <th></th>\n",
       "      <th>contract</th>\n",
       "      <th>balance_date_2</th>\n",
       "      <th>value_pos_mdo</th>\n",
       "    </tr>\n",
       "  </thead>\n",
       "  <tbody>\n",
       "    <tr>\n",
       "      <th>0</th>\n",
       "      <td>12861603</td>\n",
       "      <td>2023-01-12</td>\n",
       "      <td>100000.0000</td>\n",
       "    </tr>\n",
       "    <tr>\n",
       "      <th>1</th>\n",
       "      <td>12861603</td>\n",
       "      <td>2023-01-13</td>\n",
       "      <td>100000.0000</td>\n",
       "    </tr>\n",
       "    <tr>\n",
       "      <th>2</th>\n",
       "      <td>12861603</td>\n",
       "      <td>2023-01-16</td>\n",
       "      <td>267081.1981</td>\n",
       "    </tr>\n",
       "    <tr>\n",
       "      <th>3</th>\n",
       "      <td>12861603</td>\n",
       "      <td>2023-01-17</td>\n",
       "      <td>270193.5784</td>\n",
       "    </tr>\n",
       "    <tr>\n",
       "      <th>4</th>\n",
       "      <td>12861603</td>\n",
       "      <td>2023-01-18</td>\n",
       "      <td>270369.3147</td>\n",
       "    </tr>\n",
       "    <tr>\n",
       "      <th>...</th>\n",
       "      <td>...</td>\n",
       "      <td>...</td>\n",
       "      <td>...</td>\n",
       "    </tr>\n",
       "    <tr>\n",
       "      <th>578</th>\n",
       "      <td>AHA84901</td>\n",
       "      <td>2023-11-24</td>\n",
       "      <td>430177.2279</td>\n",
       "    </tr>\n",
       "    <tr>\n",
       "      <th>579</th>\n",
       "      <td>AHA84901</td>\n",
       "      <td>2023-11-27</td>\n",
       "      <td>430473.7846</td>\n",
       "    </tr>\n",
       "    <tr>\n",
       "      <th>580</th>\n",
       "      <td>AHA84901</td>\n",
       "      <td>2023-11-28</td>\n",
       "      <td>430652.7504</td>\n",
       "    </tr>\n",
       "    <tr>\n",
       "      <th>581</th>\n",
       "      <td>AHA84901</td>\n",
       "      <td>2023-11-29</td>\n",
       "      <td>430736.0483</td>\n",
       "    </tr>\n",
       "    <tr>\n",
       "      <th>582</th>\n",
       "      <td>AHA84901</td>\n",
       "      <td>2023-11-30</td>\n",
       "      <td>430842.6591</td>\n",
       "    </tr>\n",
       "  </tbody>\n",
       "</table>\n",
       "<p>583 rows × 3 columns</p>\n",
       "</div>"
      ],
      "text/plain": [
       "     contract balance_date_2  value_pos_mdo\n",
       "0    12861603     2023-01-12    100000.0000\n",
       "1    12861603     2023-01-13    100000.0000\n",
       "2    12861603     2023-01-16    267081.1981\n",
       "3    12861603     2023-01-17    270193.5784\n",
       "4    12861603     2023-01-18    270369.3147\n",
       "..        ...            ...            ...\n",
       "578  AHA84901     2023-11-24    430177.2279\n",
       "579  AHA84901     2023-11-27    430473.7846\n",
       "580  AHA84901     2023-11-28    430652.7504\n",
       "581  AHA84901     2023-11-29    430736.0483\n",
       "582  AHA84901     2023-11-30    430842.6591\n",
       "\n",
       "[583 rows x 3 columns]"
      ]
     },
     "execution_count": 10,
     "metadata": {},
     "output_type": "execute_result"
    }
   ],
   "source": [
    "data_balances = clean_balance_data(balances)\n",
    "data_balances"
   ]
  },
  {
   "cell_type": "code",
   "execution_count": 30,
   "id": "80cae4f4",
   "metadata": {},
   "outputs": [],
   "source": [
    "def clean_balance_data3(data):\n",
    "    cols = ['contract','value_pos_mdo','balance_date']\n",
    "    df = data[cols].copy()\n",
    "\n",
    "    # Parse balance_date into datetime\n",
    "    df['balance_date_2'] = df[\"balance_date\"].apply(lambda x: dp.parse(x))\n",
    "\n",
    "    # Dictionary to store grouped dfs\n",
    "    contract_dfs = {}\n",
    "    for contract, group in df.groupby(\"contract\"):\n",
    "        grouped = group.groupby(\"balance_date_2\", as_index=False)[\"value_pos_mdo\"].sum()\n",
    "        contract_dfs[contract] = grouped.reset_index(drop=True)\n",
    "\n",
    "        # Create a global variable for each contract\n",
    "        globals()[f\"df_{contract}\"] = contract_dfs[contract]\n",
    "\n",
    "    # Collect names of created variables\n",
    "    created_vars = [f\"df_{contract}\" for contract in contract_dfs.keys()]\n",
    "\n",
    "    return contract_dfs, created_vars"
   ]
  },
  {
   "cell_type": "code",
   "execution_count": null,
   "id": "e56c15d2",
   "metadata": {},
   "outputs": [],
   "source": [
    "data_balances3, contract_names = clean_balance_data3(balances)\n"
   ]
  },
  {
   "cell_type": "code",
   "execution_count": 38,
   "id": "6af9f361",
   "metadata": {},
   "outputs": [
    {
     "name": "stdout",
     "output_type": "stream",
     "text": [
      "['df_12861603', 'df_20486403', 'df_AHA84901']\n"
     ]
    }
   ],
   "source": [
    "print(contract_names)"
   ]
  },
  {
   "cell_type": "code",
   "execution_count": 39,
   "id": "36882868",
   "metadata": {},
   "outputs": [
    {
     "data": {
      "text/html": [
       "<div>\n",
       "<style scoped>\n",
       "    .dataframe tbody tr th:only-of-type {\n",
       "        vertical-align: middle;\n",
       "    }\n",
       "\n",
       "    .dataframe tbody tr th {\n",
       "        vertical-align: top;\n",
       "    }\n",
       "\n",
       "    .dataframe thead th {\n",
       "        text-align: right;\n",
       "    }\n",
       "</style>\n",
       "<table border=\"1\" class=\"dataframe\">\n",
       "  <thead>\n",
       "    <tr style=\"text-align: right;\">\n",
       "      <th></th>\n",
       "      <th>balance_date_2</th>\n",
       "      <th>value_pos_mdo</th>\n",
       "    </tr>\n",
       "  </thead>\n",
       "  <tbody>\n",
       "    <tr>\n",
       "      <th>0</th>\n",
       "      <td>2022-12-09</td>\n",
       "      <td>1.531486e+06</td>\n",
       "    </tr>\n",
       "    <tr>\n",
       "      <th>1</th>\n",
       "      <td>2022-12-13</td>\n",
       "      <td>1.532354e+06</td>\n",
       "    </tr>\n",
       "    <tr>\n",
       "      <th>2</th>\n",
       "      <td>2022-12-14</td>\n",
       "      <td>1.533558e+06</td>\n",
       "    </tr>\n",
       "    <tr>\n",
       "      <th>3</th>\n",
       "      <td>2022-12-15</td>\n",
       "      <td>1.533234e+06</td>\n",
       "    </tr>\n",
       "    <tr>\n",
       "      <th>4</th>\n",
       "      <td>2022-12-16</td>\n",
       "      <td>1.533722e+06</td>\n",
       "    </tr>\n",
       "  </tbody>\n",
       "</table>\n",
       "</div>"
      ],
      "text/plain": [
       "  balance_date_2  value_pos_mdo\n",
       "0     2022-12-09   1.531486e+06\n",
       "1     2022-12-13   1.532354e+06\n",
       "2     2022-12-14   1.533558e+06\n",
       "3     2022-12-15   1.533234e+06\n",
       "4     2022-12-16   1.533722e+06"
      ]
     },
     "execution_count": 39,
     "metadata": {},
     "output_type": "execute_result"
    }
   ],
   "source": [
    "df_20486403.head()"
   ]
  },
  {
   "cell_type": "code",
   "execution_count": null,
   "id": "fbec84f1",
   "metadata": {},
   "outputs": [],
   "source": []
  }
 ],
 "metadata": {
  "kernelspec": {
   "display_name": "base",
   "language": "python",
   "name": "python3"
  },
  "language_info": {
   "codemirror_mode": {
    "name": "ipython",
    "version": 3
   },
   "file_extension": ".py",
   "mimetype": "text/x-python",
   "name": "python",
   "nbconvert_exporter": "python",
   "pygments_lexer": "ipython3",
   "version": "3.11.6"
  }
 },
 "nbformat": 4,
 "nbformat_minor": 5
}
